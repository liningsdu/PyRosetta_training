{
 "cells": [
  {
   "cell_type": "code",
   "execution_count": 1,
   "metadata": {},
   "outputs": [
    {
     "name": "stdout",
     "output_type": "stream",
     "text": [
      "PyRosetta-4 2020 [Rosetta PyRosetta4.Release.python37.linux 2020.25+release.d2d9f90b8cbcacfd7a1f69aefa5de610b100e8a9 2020-06-19T14:33:13] retrieved from: http://www.pyrosetta.org\n",
      "(C) Copyright Rosetta Commons Member Institutions. Created in JHU by Sergey Lyskov and PyRosetta Team.\n",
      "\u001b[0mcore.init: \u001b[0mChecking for fconfig files in pwd and ./rosetta/flags\n",
      "\u001b[0mcore.init: \u001b[0mRosetta version: PyRosetta4.Release.python37.linux r258 2020.25+release.d2d9f90 d2d9f90b8cbcacfd7a1f69aefa5de610b100e8a9 http://www.pyrosetta.org 2020-06-19T14:33:13\n",
      "\u001b[0mcore.init: \u001b[0mcommand: PyRosetta -ex1 -ex2aro -database /home/ning/anaconda3/lib/python3.7/site-packages/pyrosetta-2020.25+release.d2d9f90-py3.7-linux-x86_64.egg/pyrosetta/database\n",
      "\u001b[0mbasic.random.init_random_generator: \u001b[0m'RNG device' seed mode, using '/dev/urandom', seed=1699480257 seed_offset=0 real_seed=1699480257\n",
      "\u001b[0mbasic.random.init_random_generator: \u001b[0mRandomGenerator:init: Normal mode, seed=1699480257 RG_type=mt19937\n"
     ]
    }
   ],
   "source": [
    "import sys\n",
    "import pyrosetta\n",
    "pyrosetta.init()"
   ]
  },
  {
   "cell_type": "code",
   "execution_count": 2,
   "metadata": {},
   "outputs": [
    {
     "name": "stdout",
     "output_type": "stream",
     "text": [
      "\u001b[0mcore.chemical.GlobalResidueTypeSet: \u001b[0mFinished initializing fa_standard residue type set.  Created 981 residue types\n",
      "\u001b[0mcore.chemical.GlobalResidueTypeSet: \u001b[0mTotal time to initialize 1.18056 seconds.\n",
      "\u001b[0mcore.import_pose.import_pose: \u001b[0mFile 'inputs/6Q21_A.pdb' automatically determined to be of type PDB\n"
     ]
    },
    {
     "data": {
      "text/plain": [
       "171"
      ]
     },
     "execution_count": 2,
     "metadata": {},
     "output_type": "execute_result"
    }
   ],
   "source": [
    "ras = pyrosetta.pose_from_pdb('inputs/6Q21_A.pdb')\n",
    "ras.total_residue()"
   ]
  },
  {
   "cell_type": "code",
   "execution_count": 4,
   "metadata": {},
   "outputs": [],
   "source": [
    "pmm = pyrosetta.PyMOLMover()\n",
    "pmm.apply(ras)"
   ]
  },
  {
   "cell_type": "code",
   "execution_count": 5,
   "metadata": {
    "scrolled": true
   },
   "outputs": [
    {
     "name": "stdout",
     "output_type": "stream",
     "text": [
      "\u001b[0mcore.scoring.ScoreFunctionFactory: \u001b[0mSCOREFUNCTION: \u001b[32mref2015\u001b[0m\n",
      "\u001b[0mcore.scoring.etable: \u001b[0mStarting energy table calculation\n",
      "\u001b[0mcore.scoring.etable: \u001b[0msmooth_etable: changing atr/rep split to bottom of energy well\n",
      "\u001b[0mcore.scoring.etable: \u001b[0msmooth_etable: spline smoothing lj etables (maxdis = 6)\n",
      "\u001b[0mcore.scoring.etable: \u001b[0msmooth_etable: spline smoothing solvation etables (max_dis = 6)\n",
      "\u001b[0mcore.scoring.etable: \u001b[0mFinished calculating energy tables.\n",
      "\u001b[0mbasic.io.database: \u001b[0mDatabase file opened: scoring/score_functions/hbonds/ref2015_params/HBPoly1D.csv\n",
      "\u001b[0mbasic.io.database: \u001b[0mDatabase file opened: scoring/score_functions/hbonds/ref2015_params/HBFadeIntervals.csv\n",
      "\u001b[0mbasic.io.database: \u001b[0mDatabase file opened: scoring/score_functions/hbonds/ref2015_params/HBEval.csv\n",
      "\u001b[0mbasic.io.database: \u001b[0mDatabase file opened: scoring/score_functions/hbonds/ref2015_params/DonStrength.csv\n",
      "\u001b[0mbasic.io.database: \u001b[0mDatabase file opened: scoring/score_functions/hbonds/ref2015_params/AccStrength.csv\n",
      "\u001b[0mbasic.io.database: \u001b[0mDatabase file opened: scoring/score_functions/rama/fd/all.ramaProb\n",
      "\u001b[0mbasic.io.database: \u001b[0mDatabase file opened: scoring/score_functions/rama/fd/prepro.ramaProb\n",
      "\u001b[0mbasic.io.database: \u001b[0mDatabase file opened: scoring/score_functions/omega/omega_ppdep.all.txt\n",
      "\u001b[0mbasic.io.database: \u001b[0mDatabase file opened: scoring/score_functions/omega/omega_ppdep.gly.txt\n",
      "\u001b[0mbasic.io.database: \u001b[0mDatabase file opened: scoring/score_functions/omega/omega_ppdep.pro.txt\n",
      "\u001b[0mbasic.io.database: \u001b[0mDatabase file opened: scoring/score_functions/omega/omega_ppdep.valile.txt\n",
      "\u001b[0mbasic.io.database: \u001b[0mDatabase file opened: scoring/score_functions/P_AA_pp/P_AA\n",
      "\u001b[0mbasic.io.database: \u001b[0mDatabase file opened: scoring/score_functions/P_AA_pp/P_AA_n\n",
      "\u001b[0mcore.scoring.P_AA: \u001b[0mshapovalov_lib::shap_p_aa_pp_smooth_level of 1( aka low_smooth ) got activated.\n",
      "\u001b[0mbasic.io.database: \u001b[0mDatabase file opened: scoring/score_functions/P_AA_pp/shapovalov/10deg/kappa131/a20.prop\n"
     ]
    }
   ],
   "source": [
    "from pyrosetta.teaching import *\n",
    "sfxn = get_score_function(True)"
   ]
  },
  {
   "cell_type": "code",
   "execution_count": 8,
   "metadata": {
    "scrolled": true
   },
   "outputs": [
    {
     "name": "stdout",
     "output_type": "stream",
     "text": [
      "ScoreFunction::show():\n",
      "weights: (fa_atr 1) (fa_rep 0.55) (fa_sol 1) (fa_intra_rep 0.005) (fa_intra_sol_xover4 1) (lk_ball_wtd 1) (fa_elec 1) (pro_close 1.25) (hbond_sr_bb 1) (hbond_lr_bb 1) (hbond_bb_sc 1) (hbond_sc 1) (dslf_fa13 1.25) (omega 0.4) (fa_dun 0.7) (p_aa_pp 0.6) (yhh_planarity 0.625) (ref 1) (rama_prepro 0.45)\n",
      "energy_method_options: EnergyMethodOptions::show: aa_composition_setup_files: \n",
      "EnergyMethodOptions::show: mhc_epitope_setup_files: \n",
      "EnergyMethodOptions::show: netcharge_setup_files: \n",
      "EnergyMethodOptions::show: aspartimide_penalty_value: 25\n",
      "EnergyMethodOptions::show: etable_type: FA_STANDARD_DEFAULT\n",
      "analytic_etable_evaluation: 1\n",
      "EnergyMethodOptions::show: method_weights: ref 1.32468 3.25479 -2.14574 -2.72453 1.21829 0.79816 -0.30065 2.30374 -0.71458 1.66147 1.65735 -1.34026 -1.64321 -1.45095 -0.09474 -0.28969 1.15175 2.64269 2.26099 0.58223\n",
      "EnergyMethodOptions::show: method_weights: free_res\n",
      "EnergyMethodOptions::show: unfolded_energies_type: UNFOLDED_SCORE12\n",
      "EnergyMethodOptions::show: split_unfolded_label_type: SPLIT_UNFOLDED_MM\n",
      "EnergyMethodOptions::show: split_unfolded_value_type: SPLIT_UNFOLDED_BOLTZ\n",
      "EnergyMethodOptions::show: atom_vdw_atom_type_set_name: centroid\n",
      "EnergyMethodOptions::show: covalent_labeling_input: \n",
      "EnergyMethodOptions::show: covalent_labeling_fa_input: \n",
      "EnergyMethodOptions::show: exclude_protein_protein_fa_elec: false\n",
      "EnergyMethodOptions::show: exclude_RNA_RNA_fa_elec: false\n",
      "EnergyMethodOptions::show: exclude_RNA_protein_fa_elec: false\n",
      "EnergyMethodOptions::show: exclude_monomer_fa_elec: false\n",
      "EnergyMethodOptions::show: elec_max_dis: 5.5\n",
      "EnergyMethodOptions::show: elec_min_dis: 1.6\n",
      "EnergyMethodOptions::show: elec_die: 10\n",
      "EnergyMethodOptions::show: elec_no_dis_dep_die: false\n",
      "EnergyMethodOptions::show: elec_sigmoidal_die: true\n",
      "EnergyMethodOptions::show: elec_sigmoidal_D: 80\n",
      "EnergyMethodOptions::show: elec_sigmoidal_D0: 6\n",
      "EnergyMethodOptions::show: elec_sigmoidal_S: 0.4\n",
      "EnergyMethodOptions::show: smooth_fa_elec: true\n",
      "EnergyMethodOptions::show: grpelec_fade_type: false\n",
      "EnergyMethodOptions::show: grpelec_fade_param1: 1\n",
      "EnergyMethodOptions::show: grpelec_fade_param2: 1\n",
      "EnergyMethodOptions::show: grpelec_fade_hbond: 0\n",
      "EnergyMethodOptions::show: grp_cpfxn: 1\n",
      "EnergyMethodOptions::show: elec_group_file: /scoring/score_functions/elec_group_def.dat\n",
      "EnergyMethodOptions::show: grpelec_context_dependent: 0\n",
      "EnergyMethodOptions::show: use_polarization: true\n",
      "EnergyMethodOptions::show: use_gen_kirkwood: true\n",
      "EnergyMethodOptions::show: protein_dielectric: 1\n",
      "EnergyMethodOptions::show: water_dielectric: 78.3\n",
      "EnergyMethodOptions::show: exclude_DNA_DNA: true\n",
      "EnergyMethodOptions::show: exclude_intra_res_protein: false\n",
      "EnergyMethodOptions::show: count_pair_hybrid: false\n",
      "EnergyMethodOptions::show: count_pair_full: false\n",
      "EnergyMethodOptions::show: put_intra_into_total: false\n",
      "EnergyMethodOptions::show: geom_sol_interres_path_distance_cutoff: false\n",
      "EnergyMethodOptions::show: geom_sol_intrares_path_distance_cutoff: true\n",
      "EnergyMethodOptions::show: eval_intrares_elec_ST_only: false\n",
      "EnergyMethodOptions::show: envsmooth_zero_negatives: false\n",
      "EnergyMethodOptions::show: cst_max_seq_sep: 18446744073709551615\n",
      "EnergyMethodOptions::show: pb_bound_tag: bound\n",
      "EnergyMethodOptions::show: pb_unbound_tag: unbound\n",
      "EnergyMethodOptions::show: arg_cation_pi_his_can_be_pi: 1\n",
      "EnergyMethodOptions::show: ordered_wat_penalty: 1.221\n",
      "EnergyMethodOptions::show: ordered_pt_wat_penalty: 2.709\n",
      "EnergyMethodOptions::show: nmer_ref_seq_length_: 9\n",
      "EnergyMethodOptions::show: nmer_svm_term_length_: 3\n",
      "EnergyMethodOptions::show: nmer_svm_pssm_feat_: 1\n",
      "EnergyMethodOptions::show: nmer_svm_scorecut_defined_: 0\n",
      "EnergyMethodOptions::show: nmer_svm_scorecut_: 0\n",
      "EnergyMethodOptions::show: nmer_svm_avg_rank_as_energy_: 0\n",
      "EnergyMethodOptions::show: nmer_svm_aa_matrix_defined_: 0\n",
      "EnergyMethodOptions::show: nmer_svm_aa_matrix_: \n",
      "EnergyMethodOptions::show: nmer_svm_list_defined_: 0\n",
      "EnergyMethodOptions::show: nmer_svm_list_: \n",
      "EnergyMethodOptions::show: nmer_svm_defined_: 0\n",
      "EnergyMethodOptions::show: nmer_svm_: \n",
      "EnergyMethodOptions::show: nmer_svm_rank_list_defined_: 0\n",
      "EnergyMethodOptions::show: nmer_svm_rank_list_: \n",
      "EnergyMethodOptions::show: nmer_svm_rank_defined_: 0\n",
      "EnergyMethodOptions::show: nmer_svm_rank_: \n",
      "EnergyMethodOptions::show: voids_penalty_energy_containing_cones_cutoff_:6\n",
      "EnergyMethodOptions::show: voids_penalty_energy_cone_distance_cutoff_: 8\n",
      "EnergyMethodOptions::show: voids_penalty_energy_cone_dotproduct_cutoff_: 0.1\n",
      "EnergyMethodOptions::show: voids_penalty_energy_voxel_grid_padding_: 1\n",
      "EnergyMethodOptions::show: voids_penalty_energy_voxel_size_: 0.5\n",
      "EnergyMethodOptions::show: voids_penalty_energy_disabled_except_during_packing_: TRUE\n",
      "EnergyMethodOptions::show: hbnet_bonus_ramping_function_: \"quadratic\"\n",
      "EnergyMethodOptions::show: hbnet_max_network_size_: 0\n",
      "EnergyMethodOptions::show: approximate_buried_unsat_penalty_hbond_energy_threshold_: -0.25\n",
      "EnergyMethodOptions::show: approximate_buried_unsat_penalty_burial_atomic_depth_: 4.5\n",
      "EnergyMethodOptions::show: approximate_buried_unsat_penalty_burial_probe_radius_: 2.3\n",
      "EnergyMethodOptions::show: approximate_buried_unsat_penalty_burial_resolution_: 0.5\n",
      "EnergyMethodOptions::show: approximate_buried_unsat_penalty_oversat_penalty_: 1\n",
      "EnergyMethodOptions::show: approximate_buried_unsat_penalty_assume_const_backbone_:1\n",
      "EnergyMethodOptions::show: approximate_buried_unsat_penalty_natural_corrections1_:0\n",
      "EnergyMethodOptions::show: approximate_buried_unsat_penalty_hbond_bonus_cross_chain_:0\n",
      "EnergyMethodOptions::show: approximate_buried_unsat_penalty_hbond_bonus_ser_to_helix_bb_:0\n",
      "EnergyMethodOptions::show: target_clash_pdb_:\n",
      "EnergyMethodOptions::show: dump_trajectory_prefix_: traj\n",
      "EnergyMethodOptions::show: dump_trajectory_gz_: FALSE\n",
      "EnergyMethodOptions::show: dump_trajectory_stride_: 1\n",
      "EnergyMethodOptions::show: bond_angle_central_atoms_to_score:\n",
      "EnergyMethodOptions::show: bond_angle_residue_type_param_set: none\n",
      "HBondOptions::show: hb_max_energy: 0\n",
      "HBondOptions::show: exclude_DNA_DNA: true\n",
      "HBondOptions::show: exclude_intra_res_protein_: false\n",
      "HBondOptions::show: exclude_intra_res_RNA_: false\n",
      "HBondOptions::show: put_intra_into_total_: false\n",
      "HBondOptions::show: exclude_self_hbonds: true\n",
      "HBondOptions::show: use_hb_env_dep: false\n",
      "HBondOptions::show: use_hb_env_dep_DNA: true\n",
      "HBondOptions::show: smooth_hb_env_dep: true\n",
      "HBondOptions::show: bb_donor_acceptor_check: true\n",
      "HBondOptions::show: decompose_bb_hb_into_pair_energies: false\n",
      "HBondOptions::show: params_database_tag_: ref2015_params\n",
      "HBondOptions::show: use_sp2_chi_penalty_: true\n",
      "HBondOptions::show: sp2_BAH180_rise_: 0.75\n",
      "HBondOptions::show: sp2_outer_width_: 0.357\n",
      "HBondOptions::show: measure_sp3acc_BAH_from_hvy_: true\n",
      "HBondOptions::show: fade_energy_: 1\n",
      "HBondOptions::show: exclude_ether_oxygens_: 0\n",
      "HBondOptions::show: Mbhbond: false \n",
      "HbondOptions::show: mphbond: false\n",
      "HBondOptions::show: hbond_energy_shift: 0\n",
      "HBondOptions::show: water_hybrid_sf: false\n",
      "RNA_EnergyMethodOptions::show: syn_G_potential_bonus: 0\n",
      "RNA_EnergyMethodOptions::show: torsion_potential: ps_04282011\n",
      "RNA_EnergyMethodOptions::show: suiteness_bonus: Richardson\n",
      "RNA_EnergyMethodOptions::show: rna_base_pair_xy_filename: scoring/rna/rna_base_pair_xy.dat\n",
      "FreeDOF_Options::show: free_suite_bonus: -1\n",
      "FreeDOF_Options::show: free_2HOprime_bonus: -0.5\n",
      "FreeDOF_Options::show: free_sugar_bonus: -1\n",
      "FreeDOF_Options::show: pack_phosphate_penalty: 0.25\n",
      "FreeDOF_Options::show: free_side_chain_bonus: -0.5\n",
      "\n",
      "\n"
     ]
    }
   ],
   "source": [
    "print(sfxn)"
   ]
  },
  {
   "cell_type": "code",
   "execution_count": 12,
   "metadata": {},
   "outputs": [
    {
     "name": "stdout",
     "output_type": "stream",
     "text": [
      "\u001b[0mbasic.io.database: \u001b[0mDatabase file opened: scoring/score_functions/elec_cp_reps.dat\n",
      "\u001b[0mcore.scoring.elec.util: \u001b[0mRead 40 countpair representative atoms\n",
      "\u001b[0mcore.pack.dunbrack.RotamerLibrary: \u001b[0mshapovalov_lib_fixes_enable option is true.\n",
      "\u001b[0mcore.pack.dunbrack.RotamerLibrary: \u001b[0mshapovalov_lib::shap_dun10_smooth_level of 1( aka lowest_smooth ) got activated.\n",
      "\u001b[0mcore.pack.dunbrack.RotamerLibrary: \u001b[0mBinary rotamer library selected: /home/ning/anaconda3/lib/python3.7/site-packages/pyrosetta-2020.25+release.d2d9f90-py3.7-linux-x86_64.egg/pyrosetta/database/rotamer/shapovalov/StpDwn_0-0-0/Dunbrack10.lib.bin\n",
      "\u001b[0mcore.pack.dunbrack.RotamerLibrary: \u001b[0mUsing Dunbrack library binary file '/home/ning/anaconda3/lib/python3.7/site-packages/pyrosetta-2020.25+release.d2d9f90-py3.7-linux-x86_64.egg/pyrosetta/database/rotamer/shapovalov/StpDwn_0-0-0/Dunbrack10.lib.bin'.\n",
      "\u001b[0mcore.pack.dunbrack.RotamerLibrary: \u001b[0mDunbrack 2010 library took 0.193773 seconds to load from binary\n",
      "\u001b[0mcore.scoring.ScoreFunction: \u001b[0m\n",
      "------------------------------------------------------------\n",
      " Scores                       Weight   Raw Score Wghtd.Score\n",
      "------------------------------------------------------------\n",
      " fa_atr                       1.000   -1039.246   -1039.246\n",
      " fa_rep                       0.550    1193.837     656.611\n",
      " fa_sol                       1.000     682.582     682.582\n",
      " fa_intra_rep                 0.005     700.419       3.502\n",
      " fa_intra_sol_xover4          1.000      46.564      46.564\n",
      " lk_ball_wtd                  1.000     -14.597     -14.597\n",
      " fa_elec                      1.000    -195.387    -195.387\n",
      " pro_close                    1.250      97.210     121.513\n",
      " hbond_sr_bb                  1.000     -41.656     -41.656\n",
      " hbond_lr_bb                  1.000     -28.352     -28.352\n",
      " hbond_bb_sc                  1.000     -13.111     -13.111\n",
      " hbond_sc                     1.000      -7.771      -7.771\n",
      " dslf_fa13                    1.250       0.000       0.000\n",
      " omega                        0.400      41.525      16.610\n",
      " fa_dun                       0.700    1296.642     907.650\n",
      " p_aa_pp                      0.600     -25.496     -15.298\n",
      " yhh_planarity                0.625       0.000       0.000\n",
      " ref                          1.000      47.114      47.114\n",
      " rama_prepro                  0.450     197.781      89.002\n",
      "---------------------------------------------------\n",
      " Total weighted score:                     1215.729\n"
     ]
    }
   ],
   "source": [
    "sfxn.show(ras)"
   ]
  },
  {
   "cell_type": "markdown",
   "metadata": {},
   "source": [
    "## Custom energy function"
   ]
  },
  {
   "cell_type": "code",
   "execution_count": 13,
   "metadata": {},
   "outputs": [
    {
     "name": "stdout",
     "output_type": "stream",
     "text": [
      "ScoreFunction::show():\n",
      "weights: (fa_atr 1) (fa_rep 1)\n",
      "energy_method_options: EnergyMethodOptions::show: aa_composition_setup_files: \n",
      "EnergyMethodOptions::show: mhc_epitope_setup_files: \n",
      "EnergyMethodOptions::show: netcharge_setup_files: \n",
      "EnergyMethodOptions::show: aspartimide_penalty_value: 25\n",
      "EnergyMethodOptions::show: etable_type: FA_STANDARD_DEFAULT\n",
      "analytic_etable_evaluation: 1\n",
      "EnergyMethodOptions::show: method_weights: free_res\n",
      "EnergyMethodOptions::show: unfolded_energies_type: UNFOLDED_SCORE12\n",
      "EnergyMethodOptions::show: split_unfolded_label_type: SPLIT_UNFOLDED_MM\n",
      "EnergyMethodOptions::show: split_unfolded_value_type: SPLIT_UNFOLDED_BOLTZ\n",
      "EnergyMethodOptions::show: atom_vdw_atom_type_set_name: centroid\n",
      "EnergyMethodOptions::show: covalent_labeling_input: \n",
      "EnergyMethodOptions::show: covalent_labeling_fa_input: \n",
      "EnergyMethodOptions::show: exclude_protein_protein_fa_elec: false\n",
      "EnergyMethodOptions::show: exclude_RNA_RNA_fa_elec: false\n",
      "EnergyMethodOptions::show: exclude_RNA_protein_fa_elec: false\n",
      "EnergyMethodOptions::show: exclude_monomer_fa_elec: false\n",
      "EnergyMethodOptions::show: elec_max_dis: 5.5\n",
      "EnergyMethodOptions::show: elec_min_dis: 1.6\n",
      "EnergyMethodOptions::show: elec_die: 10\n",
      "EnergyMethodOptions::show: elec_no_dis_dep_die: false\n",
      "EnergyMethodOptions::show: elec_sigmoidal_die: true\n",
      "EnergyMethodOptions::show: elec_sigmoidal_D: 80\n",
      "EnergyMethodOptions::show: elec_sigmoidal_D0: 6\n",
      "EnergyMethodOptions::show: elec_sigmoidal_S: 0.4\n",
      "EnergyMethodOptions::show: smooth_fa_elec: true\n",
      "EnergyMethodOptions::show: grpelec_fade_type: false\n",
      "EnergyMethodOptions::show: grpelec_fade_param1: 1\n",
      "EnergyMethodOptions::show: grpelec_fade_param2: 1\n",
      "EnergyMethodOptions::show: grpelec_fade_hbond: 0\n",
      "EnergyMethodOptions::show: grp_cpfxn: 1\n",
      "EnergyMethodOptions::show: elec_group_file: /scoring/score_functions/elec_group_def.dat\n",
      "EnergyMethodOptions::show: grpelec_context_dependent: 0\n",
      "EnergyMethodOptions::show: use_polarization: true\n",
      "EnergyMethodOptions::show: use_gen_kirkwood: true\n",
      "EnergyMethodOptions::show: protein_dielectric: 1\n",
      "EnergyMethodOptions::show: water_dielectric: 78.3\n",
      "EnergyMethodOptions::show: exclude_DNA_DNA: true\n",
      "EnergyMethodOptions::show: exclude_intra_res_protein: true\n",
      "EnergyMethodOptions::show: count_pair_hybrid: false\n",
      "EnergyMethodOptions::show: count_pair_full: false\n",
      "EnergyMethodOptions::show: put_intra_into_total: false\n",
      "EnergyMethodOptions::show: geom_sol_interres_path_distance_cutoff: false\n",
      "EnergyMethodOptions::show: geom_sol_intrares_path_distance_cutoff: true\n",
      "EnergyMethodOptions::show: eval_intrares_elec_ST_only: false\n",
      "EnergyMethodOptions::show: envsmooth_zero_negatives: false\n",
      "EnergyMethodOptions::show: cst_max_seq_sep: 18446744073709551615\n",
      "EnergyMethodOptions::show: pb_bound_tag: bound\n",
      "EnergyMethodOptions::show: pb_unbound_tag: unbound\n",
      "EnergyMethodOptions::show: arg_cation_pi_his_can_be_pi: 1\n",
      "EnergyMethodOptions::show: ordered_wat_penalty: 1.221\n",
      "EnergyMethodOptions::show: ordered_pt_wat_penalty: 2.709\n",
      "EnergyMethodOptions::show: nmer_ref_seq_length_: 9\n",
      "EnergyMethodOptions::show: nmer_svm_term_length_: 3\n",
      "EnergyMethodOptions::show: nmer_svm_pssm_feat_: 1\n",
      "EnergyMethodOptions::show: nmer_svm_scorecut_defined_: 0\n",
      "EnergyMethodOptions::show: nmer_svm_scorecut_: 0\n",
      "EnergyMethodOptions::show: nmer_svm_avg_rank_as_energy_: 0\n",
      "EnergyMethodOptions::show: nmer_svm_aa_matrix_defined_: 0\n",
      "EnergyMethodOptions::show: nmer_svm_aa_matrix_: \n",
      "EnergyMethodOptions::show: nmer_svm_list_defined_: 0\n",
      "EnergyMethodOptions::show: nmer_svm_list_: \n",
      "EnergyMethodOptions::show: nmer_svm_defined_: 0\n",
      "EnergyMethodOptions::show: nmer_svm_: \n",
      "EnergyMethodOptions::show: nmer_svm_rank_list_defined_: 0\n",
      "EnergyMethodOptions::show: nmer_svm_rank_list_: \n",
      "EnergyMethodOptions::show: nmer_svm_rank_defined_: 0\n",
      "EnergyMethodOptions::show: nmer_svm_rank_: \n",
      "EnergyMethodOptions::show: voids_penalty_energy_containing_cones_cutoff_:6\n",
      "EnergyMethodOptions::show: voids_penalty_energy_cone_distance_cutoff_: 8\n",
      "EnergyMethodOptions::show: voids_penalty_energy_cone_dotproduct_cutoff_: 0.1\n",
      "EnergyMethodOptions::show: voids_penalty_energy_voxel_grid_padding_: 1\n",
      "EnergyMethodOptions::show: voids_penalty_energy_voxel_size_: 0.5\n",
      "EnergyMethodOptions::show: voids_penalty_energy_disabled_except_during_packing_: TRUE\n",
      "EnergyMethodOptions::show: hbnet_bonus_ramping_function_: \"quadratic\"\n",
      "EnergyMethodOptions::show: hbnet_max_network_size_: 0\n",
      "EnergyMethodOptions::show: approximate_buried_unsat_penalty_hbond_energy_threshold_: -0.25\n",
      "EnergyMethodOptions::show: approximate_buried_unsat_penalty_burial_atomic_depth_: 4.5\n",
      "EnergyMethodOptions::show: approximate_buried_unsat_penalty_burial_probe_radius_: 2.3\n",
      "EnergyMethodOptions::show: approximate_buried_unsat_penalty_burial_resolution_: 0.5\n",
      "EnergyMethodOptions::show: approximate_buried_unsat_penalty_oversat_penalty_: 1\n",
      "EnergyMethodOptions::show: approximate_buried_unsat_penalty_assume_const_backbone_:1\n",
      "EnergyMethodOptions::show: approximate_buried_unsat_penalty_natural_corrections1_:0\n",
      "EnergyMethodOptions::show: approximate_buried_unsat_penalty_hbond_bonus_cross_chain_:0\n",
      "EnergyMethodOptions::show: approximate_buried_unsat_penalty_hbond_bonus_ser_to_helix_bb_:0\n",
      "EnergyMethodOptions::show: target_clash_pdb_:\n",
      "EnergyMethodOptions::show: dump_trajectory_prefix_: traj\n",
      "EnergyMethodOptions::show: dump_trajectory_gz_: FALSE\n",
      "EnergyMethodOptions::show: dump_trajectory_stride_: 1\n",
      "EnergyMethodOptions::show: bond_angle_central_atoms_to_score:\n",
      "EnergyMethodOptions::show: bond_angle_residue_type_param_set: none\n",
      "HBondOptions::show: hb_max_energy: 0\n",
      "HBondOptions::show: exclude_DNA_DNA: true\n",
      "HBondOptions::show: exclude_intra_res_protein_: true\n",
      "HBondOptions::show: exclude_intra_res_RNA_: false\n",
      "HBondOptions::show: put_intra_into_total_: false\n",
      "HBondOptions::show: exclude_self_hbonds: true\n",
      "HBondOptions::show: use_hb_env_dep: true\n",
      "HBondOptions::show: use_hb_env_dep_DNA: true\n",
      "HBondOptions::show: smooth_hb_env_dep: true\n",
      "HBondOptions::show: bb_donor_acceptor_check: true\n",
      "HBondOptions::show: decompose_bb_hb_into_pair_energies: false\n",
      "HBondOptions::show: params_database_tag_: ref2015_params\n",
      "HBondOptions::show: use_sp2_chi_penalty_: true\n",
      "HBondOptions::show: sp2_BAH180_rise_: 0.75\n",
      "HBondOptions::show: sp2_outer_width_: 0.357\n",
      "HBondOptions::show: measure_sp3acc_BAH_from_hvy_: true\n",
      "HBondOptions::show: fade_energy_: 1\n",
      "HBondOptions::show: exclude_ether_oxygens_: 0\n",
      "HBondOptions::show: Mbhbond: false \n",
      "HbondOptions::show: mphbond: false\n",
      "HBondOptions::show: hbond_energy_shift: 0\n",
      "HBondOptions::show: water_hybrid_sf: false\n",
      "RNA_EnergyMethodOptions::show: syn_G_potential_bonus: 0\n",
      "RNA_EnergyMethodOptions::show: torsion_potential: ps_04282011\n",
      "RNA_EnergyMethodOptions::show: suiteness_bonus: Richardson\n",
      "RNA_EnergyMethodOptions::show: rna_base_pair_xy_filename: scoring/rna/rna_base_pair_xy.dat\n",
      "FreeDOF_Options::show: free_suite_bonus: -1\n",
      "FreeDOF_Options::show: free_2HOprime_bonus: -0.5\n",
      "FreeDOF_Options::show: free_sugar_bonus: -1\n",
      "FreeDOF_Options::show: pack_phosphate_penalty: 0.25\n",
      "FreeDOF_Options::show: free_side_chain_bonus: -0.5\n",
      "\n",
      "\n"
     ]
    }
   ],
   "source": [
    "sfxn2 = ScoreFunction()\n",
    "sfxn2.set_weight(fa_atr, 1.0)\n",
    "sfxn2.set_weight(fa_rep, 1.0)\n",
    "print(sfxn2)"
   ]
  },
  {
   "cell_type": "code",
   "execution_count": 20,
   "metadata": {},
   "outputs": [
    {
     "name": "stdout",
     "output_type": "stream",
     "text": [
      "( fa_atr; 1) ( fa_rep; 1) ( fa_sol; 0) ( fa_intra_atr; 0) ( fa_intra_rep; 0) ( fa_intra_sol; 0) ( fa_intra_atr_xover4; 0) ( fa_intra_rep_xover4; 0) ( fa_intra_sol_xover4; 0) ( fa_intra_atr_nonprotein; 0) ( fa_intra_rep_nonprotein; 0) ( fa_intra_sol_nonprotein; 0) ( fa_intra_RNA_base_phos_atr; 0) ( fa_intra_RNA_base_phos_rep; 0) ( fa_intra_RNA_base_phos_sol; 0) ( fa_atr_dummy; 0) ( fa_rep_dummy; 0) ( fa_sol_dummy; 0) ( fa_vdw_tinker; 0) ( lk_hack; 0) ( lk_ball; 0) ( lk_ball_wtd; 0) ( lk_ball_iso; 0) ( lk_ball_bridge; 0) ( lk_ball_bridge_uncpl; 0) ( coarse_fa_atr; 0) ( coarse_fa_rep; 0) ( coarse_fa_sol; 0) ( coarse_beadlj; 0) ( mm_lj_intra_rep; 0) ( mm_lj_intra_atr; 0) ( mm_lj_inter_rep; 0) ( mm_lj_inter_atr; 0) ( mm_twist; 0) ( mm_bend; 0) ( mm_stretch; 0) ( lk_costheta; 0) ( lk_polar; 0) ( lk_nonpolar; 0) ( lk_polar_intra_RNA; 0) ( lk_nonpolar_intra_RNA; 0) ( fa_elec; 0) ( fa_elec_bb_bb; 0) ( fa_elec_bb_sc; 0) ( fa_elec_sc_sc; 0) ( fa_intra_elec; 0) ( h2o_hbond; 0) ( dna_dr; 0) ( dna_bp; 0) ( dna_bs; 0) ( dna_ref; 0) ( peptide_bond; 0) ( pcs; 0) ( pcsTs1; 0) ( pcsTs2; 0) ( pcsTs3; 0) ( pcsTs4; 0) ( pcs2; 0) ( fastsaxs; 0) ( saxs_score; 0) ( saxs_cen_score; 0) ( saxs_fa_score; 0) ( pddf_score; 0) ( fiberdiffraction; 0) ( fiberdiffractiondens; 0) ( epr_deer_score; 0) ( fa_mbenv; 0) ( fa_mbsolv; 0) ( fa_elec_rna_phos_phos; 0) ( fa_elec_rna_phos_sugr; 0) ( fa_elec_rna_phos_base; 0) ( fa_elec_rna_sugr_sugr; 0) ( fa_elec_rna_sugr_base; 0) ( fa_elec_rna_base_base; 0) ( fa_elec_rna_phos_phos_fast; 0) ( fa_elec_rna_phos_sugr_fast; 0) ( fa_elec_rna_phos_base_fast; 0) ( fa_elec_rna_sugr_sugr_fast; 0) ( fa_elec_rna_sugr_base_fast; 0) ( fa_elec_rna_base_base_fast; 0) ( fa_elec_aro_aro; 0) ( fa_elec_aro_all; 0) ( hack_aro; 0) ( rna_fa_atr_base; 0) ( rna_fa_rep_base; 0) ( rna_data_backbone; 0) ( ch_bond; 0) ( ch_bond_bb_bb; 0) ( ch_bond_sc_sc; 0) ( ch_bond_bb_sc; 0) ( pro_close; 0) ( rama2b; 0) ( vdw; 0) ( cenpack; 0) ( cenpack_smooth; 0) ( cen_hb; 0) ( hybrid_vdw; 0) ( gauss; 0) ( rna_vdw; 0) ( rnp_vdw; 0) ( rna_base_backbone; 0) ( rna_backbone_backbone; 0) ( rna_repulsive; 0) ( rna_base_pair_pairwise; 0) ( rna_base_axis_pairwise; 0) ( rna_base_stagger_pairwise; 0) ( rna_base_stack_pairwise; 0) ( rna_base_stack_axis_pairwise; 0) ( rna_data_base; 0) ( rna_base_pair; 0) ( rna_base_axis; 0) ( rna_base_stagger; 0) ( rna_base_stack; 0) ( rna_base_stack_axis; 0) ( rnp_base_pair; 0) ( rnp_stack; 0) ( rnp_stack_xy; 0) ( rnp_pair; 0) ( rnp_pair_dist; 0) ( rnp_aa_to_rna_backbone; 0) ( rna_mg_point; 0) ( rna_mg_point_indirect; 0) ( mg; 0) ( mg_lig; 0) ( mg_sol; 0) ( mg_ref; 0) ( hoh_ref; 0) ( rna_torsion; 0) ( rna_torsion_sc; 0) ( rna_suite; 0) ( rna_jr_suite; 0) ( suiteness_bonus; 0) ( tna_suite; 0) ( rna_sugar_close; 0) ( fa_stack; 0) ( fa_stack_lower; 0) ( fa_stack_upper; 0) ( fa_stack_aro; 0) ( fa_stack_ext; 0) ( fa_stack_sol; 0) ( fa_stack_lr; 0) ( fa_stack_rna_protein; 0) ( fa_stack_rna_protein_aro; 0) ( ss_contact_worst; 0) ( stack_elec; 0) ( stack_elec_base_base; 0) ( stack_elec_base_bb; 0) ( alignment; 0) ( dna_bb_torsion; 0) ( dna_sugar_close; 0) ( dna_base_distance; 0) ( geom_sol_fast; 0) ( geom_sol_fast_intra_RNA; 0) ( fa_cust_pair_dist; 0) ( custom_atom_pair; 0) ( orbitals_hpol_bb; 0) ( pci_cation_pi; 0) ( pci_pi_pi; 0) ( pci_salt_bridge; 0) ( pci_hbond; 0) ( arg_cation_pi; 0) ( PyRosettaTwoBodyContextIndepenedentEnergy_first; 0) ( PyRosettaTwoBodyContextIndepenedentEnergy_163; 0) ( PyRosettaTwoBodyContextIndepenedentEnergy_164; 0) ( PyRosettaTwoBodyContextIndepenedentEnergy_165; 0) ( PyRosettaTwoBodyContextIndepenedentEnergy_166; 0) ( PyRosettaTwoBodyContextIndepenedentEnergy_167; 0) ( PyRosettaTwoBodyContextIndepenedentEnergy_168; 0) ( PyRosettaTwoBodyContextIndepenedentEnergy_169; 0) ( PyRosettaTwoBodyContextIndepenedentEnergy_170; 0) ( PyRosettaTwoBodyContextIndepenedentEnergy_171; 0) ( PyRosettaTwoBodyContextIndepenedentEnergy_last; 0) ( python; 0) ( fa_pair; 0) ( fa_pair_aro_aro; 0) ( fa_pair_aro_pol; 0) ( fa_pair_pol_pol; 0) ( hbond_sr_bb; 0) ( hbond_lr_bb; 0) ( hbond_bb_sc; 0) ( hbond_sr_bb_sc; 0) ( hbond_lr_bb_sc; 0) ( hbond_sc; 0) ( hbond_intra; 0) ( hbond_wat; 0) ( wat_entropy; 0) ( hbond; 0) ( npd_hbond_sr_bb; 0) ( npd_hbond_lr_bb; 0) ( npd_hbond_bb_sc; 0) ( npd_hbond_sr_bb_sc; 0) ( npd_hbond_lr_bb_sc; 0) ( npd_hbond_sc; 0) ( npd_hbond_intra; 0) ( npd_hbond; 0) ( fa_grpelec; 0) ( PyRosettaTwoBodyContextDependentEnergy_first; 0) ( PyRosettaTwoBodyContextDependentEnergy_198; 0) ( PyRosettaTwoBodyContextDependentEnergy_199; 0) ( PyRosettaTwoBodyContextDependentEnergy_200; 0) ( PyRosettaTwoBodyContextDependentEnergy_201; 0) ( PyRosettaTwoBodyContextDependentEnergy_202; 0) ( PyRosettaTwoBodyContextDependentEnergy_203; 0) ( PyRosettaTwoBodyContextDependentEnergy_204; 0) ( PyRosettaTwoBodyContextDependentEnergy_205; 0) ( PyRosettaTwoBodyContextDependentEnergy_206; 0) ( PyRosettaTwoBodyContextDependentEnergy_last; 0) ( interface_dd_pair; 0) ( geom_sol; 0) ( geom_sol_intra_RNA; 0) ( occ_sol_fitted; 0) ( occ_sol_fitted_onebody; 0) ( occ_sol_exact; 0) ( cen_rot_pair; 0) ( cen_rot_pair_ang; 0) ( cen_rot_pair_dih; 0) ( pair; 0) ( cen_pair_smooth; 0) ( Mpair; 0) ( mp_pair; 0) ( fa_mpsolv; 0) ( suck; 0) ( rna_rg; 0) ( rna_motif; 0) ( facts_elec; 0) ( facts_solv; 0) ( facts_sasa; 0) ( motif_dock; 0) ( pointwater; 0) ( goap; 0) ( goap_dist; 0) ( goap_angle; 0) ( approximate_buried_unsat_penalty; 0) ( interchain_pair; 0) ( interchain_vdw; 0) ( gb_elec; 0) ( multipole_elec; 0) ( fa_sasa; 0) ( dslf_ss_dst; 0) ( dslf_cs_ang; 0) ( dslf_ss_dih; 0) ( dslf_ca_dih; 0) ( dslf_cbs_ds; 0) ( dslf_fa13; 0) ( dslfc_cen_dst; 0) ( dslfc_cb_dst; 0) ( dslfc_ang; 0) ( dslfc_cb_dih; 0) ( dslfc_bb_dih; 0) ( dslfc_rot; 0) ( dslfc_trans; 0) ( dslfc_RT; 0) ( atom_pair_constraint; 0) ( base_pair_constraint; 0) ( coarse_chainbreak_constraint; 0) ( constant_constraint; 0) ( coordinate_constraint; 0) ( angle_constraint; 0) ( dihedral_constraint; 0) ( big_bin_constraint; 0) ( dunbrack_constraint; 0) ( site_constraint; 0) ( metalhash_constraint; 0) ( metalbinding_constraint; 0) ( rna_stub_coord_hack; 0) ( bond_geometry; 0) ( rna_bond_geometry; 0) ( Hpol_bond_geometry; 0) ( rama; 0) ( omega; 0) ( fa_dun; 0) ( fa_dun_dev; 0) ( fa_dun_rot; 0) ( fa_dun_semi; 0) ( cen_rot_dun; 0) ( dna_chi; 0) ( p_aa_pp; 0) ( p_aa_ss; 0) ( yhh_planarity; 0) ( hxl_tors; 0) ( h2o_intra; 0) ( ref; 0) ( ref_nc; 0) ( seqdep_ref; 0) ( nmer_ref; 0) ( nmer_pssm; 0) ( nmer_svm; 0) ( envsmooth; 0) ( e_pH; 0) ( rna_bulge; 0) ( dna_dihedral_bb; 0) ( dna_dihedral_chi; 0) ( dna_dihedral_sugar; 0) ( sugar_bb; 0) ( free_suite; 0) ( free_2HOprime; 0) ( free_side_chain; 0) ( free_base; 0) ( free_res; 0) ( free_dof; 0) ( intermol; 0) ( other_pose; 0) ( special_rot; 0) ( PB_elec; 0) ( cen_env_smooth; 0) ( cbeta_smooth; 0) ( cen_rot_env; 0) ( cen_rot_cbeta; 0) ( env; 0) ( cbeta; 0) ( DFIRE; 0) ( Menv; 0) ( Mcbeta; 0) ( Menv_non_helix; 0) ( Menv_termini; 0) ( Menv_tm_proj; 0) ( Mlipo; 0) ( rg; 0) ( rg_local; 0) ( co; 0) ( hs_pair; 0) ( ss_pair; 0) ( rsigma; 0) ( sheet; 0) ( burial_v2; 0) ( burial; 0) ( abego; 0) ( covalent_labeling; 0) ( covalent_labeling_fa; 0) ( hrf_ms_labeling; 0) ( rnp_env; 0) ( loop_close; 0) ( missing_res; 0) ( mp_env; 0) ( mp_cbeta; 0) ( mp_lipo; 0) ( mp_termini; 0) ( mp_nonhelix; 0) ( mp_tmproj; 0) ( fa_mpenv; 0) ( fa_mpenv_smooth; 0) ( fa_water_to_bilayer; 0) ( mp_res_lipo; 0) ( span_ins; 0) ( mp_span_ang; 0) ( mp_helicality; 0) ( natbias_ss; 0) ( natbias_hs; 0) ( natbias_hh; 0) ( natbias_stwist; 0) ( aa_cmp; 0) ( dock_ens_conf; 0) ( csa; 0) ( dc; 0) ( rdc; 0) ( rdc_segments; 0) ( rdc_rohl; 0) ( nmr_pcs; 0) ( nmr_rdc; 0) ( nmr_pre; 0) ( cen_pair_motifs; 0) ( cen_pair_motif_degree; 0) ( holes; 0) ( holes_decoy; 0) ( holes_resl; 0) ( holes_min; 0) ( holes_min_mean; 0) ( rna_chem_shift; 0) ( rna_chem_map; 0) ( rna_chem_map_lores; 0) ( rna_partition; 0) ( dab_sasa; 0) ( dab_sev; 0) ( sa; 0) ( d2h_sa; 0) ( ProQM; 0) ( ProQ; 0) ( interchain_env; 0) ( interchain_contact; 0) ( chainbreak; 0) ( linear_chainbreak; 0) ( overlap_chainbreak; 0) ( distance_chainbreak; 0) ( dof_constraint; 0) ( branch_conn; 0) ( linear_branch_conn; 0) ( rama_prepro; 0) ( paa_abego3; 0) ( cart_bonded; 0) ( cart_bonded_angle; 0) ( cart_bonded_length; 0) ( cart_bonded_ring; 0) ( cart_bonded_torsion; 0) ( cart_bonded_proper; 0) ( cart_bonded_improper; 0) ( gen_bonded; 0) ( gen_bonded_bond; 0) ( gen_bonded_angle; 0) ( gen_bonded_torsion; 0) ( gen_bonded_improper; 0) ( neigh_vect; 0) ( neigh_count; 0) ( neigh_vect_raw; 0) ( symE_bonus; 0) ( sym_lig; 0) ( mhc_epitope; 0) ( pack_stat; 0) ( rms_energy; 0) ( res_type_constraint; 0) ( res_type_linking_constraint; 0) ( pocket_constraint; 0) ( backbone_stub_constraint; 0) ( backbone_stub_linear_constraint; 0) ( surface; 0) ( p_aa; 0) ( unfolded; 0) ( split_unfolded_two_body; 0) ( fa_atr_ref; 0) ( fa_rep_ref; 0) ( fa_sol_ref; 0) ( fa_elec_ref; 0) ( hbond_ref; 0) ( dslf_fa13_ref; 0) ( fa_intra_atr_ref; 0) ( fa_intra_rep_ref; 0) ( fa_intra_sol_ref; 0) ( pro_close_ref; 0) ( fa_dun_ref; 0) ( fa_dun_dev_ref; 0) ( fa_dun_rot_ref; 0) ( fa_dun_semi_ref; 0) ( rama_ref; 0) ( p_aa_pp_ref; 0) ( omega_ref; 0) ( mm_lj_intra_rep_ref; 0) ( mm_lj_intra_atr_ref; 0) ( mm_twist_ref; 0) ( elec_dens_fast; 0) ( elec_dens_window; 0) ( elec_dens_whole_structure_ca; 0) ( elec_dens_whole_structure_allatom; 0) ( elec_dens_atomwise; 0) ( grid_vdw; 0) ( xtal_ml; 0) ( xtal_rwork; 0) ( xtal_rfree; 0) ( hpatch; 0) ( Menv_smooth; 0) ( wat_desolv; 0) ( ring_close; 0) ( aa_repeat; 0) ( aa_composition; 0) ( aspartimide_penalty; 0) ( hbnet; 0) ( buried_unsatisfied_penalty; 0) ( netcharge; 0) ( voids_penalty; 0) ( dna_env; 0) ( dna_pair; 0) ( dump_trajectory; 0) ( PyRosettaEnergy_first; 0) ( PyRosettaEnergy_462; 0) ( PyRosettaEnergy_463; 0) ( PyRosettaEnergy_464; 0) ( PyRosettaEnergy_465; 0) ( PyRosettaEnergy_466; 0) ( PyRosettaEnergy_467; 0) ( PyRosettaEnergy_468; 0) ( PyRosettaEnergy_469; 0) ( PyRosettaEnergy_470; 0) ( PyRosettaEnergy_last; 0) ( sidechain_neighbors; 0) ( target_clash; 0) ( membrane_span_constraint; 0) ( membrane_span_term_z_constraint; 0) ( aromatic_restraint; 0) ( total_score; 0) ( dummy_score_type; 0) \n"
     ]
    }
   ],
   "source": [
    "print(sfxn2.weights())"
   ]
  },
  {
   "cell_type": "markdown",
   "metadata": {},
   "source": [
    "## full-atom ScoreFunction vs. ScoreFunction"
   ]
  },
  {
   "cell_type": "code",
   "execution_count": 21,
   "metadata": {},
   "outputs": [
    {
     "name": "stdout",
     "output_type": "stream",
     "text": [
      "1215.7290785559671\n"
     ]
    }
   ],
   "source": [
    "print(sfxn(ras)) # total enrygy of ras"
   ]
  },
  {
   "cell_type": "code",
   "execution_count": 22,
   "metadata": {},
   "outputs": [
    {
     "name": "stdout",
     "output_type": "stream",
     "text": [
      "154.59159174026877\n"
     ]
    }
   ],
   "source": [
    "print(sfxn2(ras))"
   ]
  },
  {
   "cell_type": "code",
   "execution_count": 23,
   "metadata": {},
   "outputs": [
    {
     "name": "stdout",
     "output_type": "stream",
     "text": [
      "\u001b[0mcore.scoring.ScoreFunction: \u001b[0m\n",
      "------------------------------------------------------------\n",
      " Scores                       Weight   Raw Score Wghtd.Score\n",
      "------------------------------------------------------------\n",
      " fa_atr                       1.000   -1039.246   -1039.246\n",
      " fa_rep                       0.550    1193.837     656.611\n",
      " fa_sol                       1.000     682.582     682.582\n",
      " fa_intra_rep                 0.005     700.419       3.502\n",
      " fa_intra_sol_xover4          1.000      46.564      46.564\n",
      " lk_ball_wtd                  1.000     -14.597     -14.597\n",
      " fa_elec                      1.000    -195.387    -195.387\n",
      " pro_close                    1.250      97.210     121.513\n",
      " hbond_sr_bb                  1.000     -41.656     -41.656\n",
      " hbond_lr_bb                  1.000     -28.352     -28.352\n",
      " hbond_bb_sc                  1.000     -13.111     -13.111\n",
      " hbond_sc                     1.000      -7.771      -7.771\n",
      " dslf_fa13                    1.250       0.000       0.000\n",
      " omega                        0.400      41.525      16.610\n",
      " fa_dun                       0.700    1296.642     907.650\n",
      " p_aa_pp                      0.600     -25.496     -15.298\n",
      " yhh_planarity                0.625       0.000       0.000\n",
      " ref                          1.000      47.114      47.114\n",
      " rama_prepro                  0.450     197.781      89.002\n",
      "---------------------------------------------------\n",
      " Total weighted score:                     1215.729\n"
     ]
    }
   ],
   "source": [
    "sfxn.show(ras)"
   ]
  },
  {
   "cell_type": "code",
   "execution_count": 24,
   "metadata": {},
   "outputs": [
    {
     "name": "stdout",
     "output_type": "stream",
     "text": [
      "\u001b[0mcore.scoring.ScoreFunction: \u001b[0m\n",
      "------------------------------------------------------------\n",
      " Scores                       Weight   Raw Score Wghtd.Score\n",
      "------------------------------------------------------------\n",
      " fa_atr                       1.000   -1039.246   -1039.246\n",
      " fa_rep                       1.000    1193.837    1193.837\n",
      "---------------------------------------------------\n",
      " Total weighted score:                      154.592\n"
     ]
    }
   ],
   "source": [
    "sfxn2.show(ras)"
   ]
  },
  {
   "cell_type": "markdown",
   "metadata": {},
   "source": [
    "* Unweighted, individual component energies of each residue in a structure are stored in the Pose object and can be accessed by the energies() method."
   ]
  },
  {
   "cell_type": "code",
   "execution_count": 27,
   "metadata": {},
   "outputs": [
    {
     "name": "stdout",
     "output_type": "stream",
     "text": [
      "\u001b[0mcore.scoring.Energies: \u001b[0mE               fa_atr        fa_rep\n",
      "\u001b[0mcore.scoring.Energies: \u001b[0mE(i)  20         -7.19          1.79\n",
      "None\n"
     ]
    }
   ],
   "source": [
    "print(ras.energies().show(20))"
   ]
  },
  {
   "cell_type": "code",
   "execution_count": 28,
   "metadata": {},
   "outputs": [
    {
     "name": "stdout",
     "output_type": "stream",
     "text": [
      "\u001b[0mcore.scoring.Energies: \u001b[0mE               fa_atr        fa_rep\n",
      "\u001b[0mcore.scoring.Energies: \u001b[0mE(i)  24         -7.40         19.03\n"
     ]
    }
   ],
   "source": [
    "ras.energies().show(24)"
   ]
  },
  {
   "cell_type": "code",
   "execution_count": 29,
   "metadata": {},
   "outputs": [
    {
     "ename": "NameError",
     "evalue": "name 'etable_atom_pair_energies' is not defined",
     "output_type": "error",
     "traceback": [
      "\u001b[0;31m---------------------------------------------------------------------------\u001b[0m",
      "\u001b[0;31mNameError\u001b[0m                                 Traceback (most recent call last)",
      "\u001b[0;32m<ipython-input-29-a659ba1b1d98>\u001b[0m in \u001b[0;36m<module>\u001b[0;34m\u001b[0m\n\u001b[0;32m----> 1\u001b[0;31m \u001b[0metable_atom_pair_energies\u001b[0m\u001b[0;34m(\u001b[0m\u001b[0;34m)\u001b[0m\u001b[0;34m\u001b[0m\u001b[0m\n\u001b[0m",
      "\u001b[0;31mNameError\u001b[0m: name 'etable_atom_pair_energies' is not defined"
     ]
    }
   ],
   "source": [
    "etable_atom_pair_energies()"
   ]
  },
  {
   "cell_type": "code",
   "execution_count": 34,
   "metadata": {},
   "outputs": [],
   "source": [
    "res20 = ras.residue(20)\n",
    "res24 = ras.residue(24)"
   ]
  },
  {
   "cell_type": "code",
   "execution_count": 36,
   "metadata": {},
   "outputs": [
    {
     "data": {
      "text/plain": [
       "(-0.1505855046001568, 0.0, 0.5903452111877215, 2.173111777247698)"
      ]
     },
     "execution_count": 36,
     "metadata": {},
     "output_type": "execute_result"
    }
   ],
   "source": [
    "pyrosetta.toolbox.atom_pair_energy.etable_atom_pair_energies(res24, res24.atom_index('N'),\n",
    "                                                            res20, res20.atom_index('O'),\n",
    "                                                            sfxn)\n",
    "# Returns tuple of lj_atr, lj_rep, fa_solv, fa_elecpotentials"
   ]
  },
  {
   "cell_type": "code",
   "execution_count": 39,
   "metadata": {},
   "outputs": [
    {
     "data": {
      "text/plain": [
       "(-0.1505855046001568, 0.0, 0.5903452111877215, 2.173111777247698)"
      ]
     },
     "execution_count": 39,
     "metadata": {},
     "output_type": "execute_result"
    }
   ],
   "source": [
    "pyrosetta.toolbox.atom_pair_energy.etable_atom_pair_energies(res20, res20.atom_index('O'),\n",
    "                                                            res24, res24.atom_index('N'),\n",
    "                                                            sfxn)"
   ]
  },
  {
   "cell_type": "code",
   "execution_count": 41,
   "metadata": {},
   "outputs": [
    {
     "name": "stdout",
     "output_type": "stream",
     "text": [
      "\u001b[0mcore.scoring.ScoreFunctionFactory: \u001b[0mSCOREFUNCTION: \u001b[32mref2015\u001b[0m\n"
     ]
    }
   ],
   "source": [
    "sfxn = get_score_function(True)"
   ]
  },
  {
   "cell_type": "markdown",
   "metadata": {},
   "source": [
    "## Energy between residues Y102 and Q408 in cetuximab 1yy9"
   ]
  },
  {
   "cell_type": "code",
   "execution_count": 42,
   "metadata": {},
   "outputs": [
    {
     "name": "stdout",
     "output_type": "stream",
     "text": [
      "\u001b[0mcore.import_pose.import_pose: \u001b[0mFile '1YY9.clean.pdb' automatically determined to be of type PDB\n",
      "\u001b[0mcore.conformation.Conformation: \u001b[0m\u001b[1m[ WARNING ]\u001b[0m missing heavyatom:  CG  on residue GLU:NtermProteinFull 1\n",
      "\u001b[0mcore.conformation.Conformation: \u001b[0m\u001b[1m[ WARNING ]\u001b[0m missing heavyatom:  CD  on residue GLU:NtermProteinFull 1\n",
      "\u001b[0mcore.conformation.Conformation: \u001b[0m\u001b[1m[ WARNING ]\u001b[0m missing heavyatom:  OE1 on residue GLU:NtermProteinFull 1\n",
      "\u001b[0mcore.conformation.Conformation: \u001b[0m\u001b[1m[ WARNING ]\u001b[0m missing heavyatom:  OE2 on residue GLU:NtermProteinFull 1\n",
      "\u001b[0mcore.conformation.Conformation: \u001b[0m\u001b[1m[ WARNING ]\u001b[0m missing heavyatom:  CG  on residue GLU 2\n",
      "\u001b[0mcore.conformation.Conformation: \u001b[0m\u001b[1m[ WARNING ]\u001b[0m missing heavyatom:  CD  on residue GLU 2\n",
      "\u001b[0mcore.conformation.Conformation: \u001b[0m\u001b[1m[ WARNING ]\u001b[0m missing heavyatom:  OE1 on residue GLU 2\n",
      "\u001b[0mcore.conformation.Conformation: \u001b[0m\u001b[1m[ WARNING ]\u001b[0m missing heavyatom:  OE2 on residue GLU 2\n",
      "\u001b[0mcore.conformation.Conformation: \u001b[0m\u001b[1m[ WARNING ]\u001b[0m missing heavyatom:  CG  on residue LYS 3\n",
      "\u001b[0mcore.conformation.Conformation: \u001b[0m\u001b[1m[ WARNING ]\u001b[0m missing heavyatom:  CD  on residue LYS 3\n",
      "\u001b[0mcore.conformation.Conformation: \u001b[0m\u001b[1m[ WARNING ]\u001b[0m missing heavyatom:  CE  on residue LYS 3\n",
      "\u001b[0mcore.conformation.Conformation: \u001b[0m\u001b[1m[ WARNING ]\u001b[0m missing heavyatom:  NZ  on residue LYS 3\n",
      "\u001b[0mcore.conformation.Conformation: \u001b[0m\u001b[1m[ WARNING ]\u001b[0m missing heavyatom:  CG  on residue GLN 138\n",
      "\u001b[0mcore.conformation.Conformation: \u001b[0m\u001b[1m[ WARNING ]\u001b[0m missing heavyatom:  CD  on residue GLN 138\n",
      "\u001b[0mcore.conformation.Conformation: \u001b[0m\u001b[1m[ WARNING ]\u001b[0m missing heavyatom:  OE1 on residue GLN 138\n",
      "\u001b[0mcore.conformation.Conformation: \u001b[0m\u001b[1m[ WARNING ]\u001b[0m missing heavyatom:  NE2 on residue GLN 138\n",
      "\u001b[0mcore.conformation.Conformation: \u001b[0m\u001b[1m[ WARNING ]\u001b[0m missing heavyatom:  CG  on residue GLU 179\n",
      "\u001b[0mcore.conformation.Conformation: \u001b[0m\u001b[1m[ WARNING ]\u001b[0m missing heavyatom:  CD  on residue GLU 179\n",
      "\u001b[0mcore.conformation.Conformation: \u001b[0m\u001b[1m[ WARNING ]\u001b[0m missing heavyatom:  OE1 on residue GLU 179\n",
      "\u001b[0mcore.conformation.Conformation: \u001b[0m\u001b[1m[ WARNING ]\u001b[0m missing heavyatom:  OE2 on residue GLU 179\n",
      "\u001b[0mcore.conformation.Conformation: \u001b[0m\u001b[1m[ WARNING ]\u001b[0m missing heavyatom:  CG  on residue GLN 192\n",
      "\u001b[0mcore.conformation.Conformation: \u001b[0m\u001b[1m[ WARNING ]\u001b[0m missing heavyatom:  CD  on residue GLN 192\n",
      "\u001b[0mcore.conformation.Conformation: \u001b[0m\u001b[1m[ WARNING ]\u001b[0m missing heavyatom:  OE1 on residue GLN 192\n",
      "\u001b[0mcore.conformation.Conformation: \u001b[0m\u001b[1m[ WARNING ]\u001b[0m missing heavyatom:  NE2 on residue GLN 192\n",
      "\u001b[0mcore.conformation.Conformation: \u001b[0m\u001b[1m[ WARNING ]\u001b[0m missing heavyatom:  CG  on residue GLN 193\n",
      "\u001b[0mcore.conformation.Conformation: \u001b[0m\u001b[1m[ WARNING ]\u001b[0m missing heavyatom:  CD  on residue GLN 193\n",
      "\u001b[0mcore.conformation.Conformation: \u001b[0m\u001b[1m[ WARNING ]\u001b[0m missing heavyatom:  OE1 on residue GLN 193\n",
      "\u001b[0mcore.conformation.Conformation: \u001b[0m\u001b[1m[ WARNING ]\u001b[0m missing heavyatom:  NE2 on residue GLN 193\n",
      "\u001b[0mcore.conformation.Conformation: \u001b[0m\u001b[1m[ WARNING ]\u001b[0m missing heavyatom:  CG  on residue GLU 220\n",
      "\u001b[0mcore.conformation.Conformation: \u001b[0m\u001b[1m[ WARNING ]\u001b[0m missing heavyatom:  CD  on residue GLU 220\n",
      "\u001b[0mcore.conformation.Conformation: \u001b[0m\u001b[1m[ WARNING ]\u001b[0m missing heavyatom:  OE1 on residue GLU 220\n",
      "\u001b[0mcore.conformation.Conformation: \u001b[0m\u001b[1m[ WARNING ]\u001b[0m missing heavyatom:  OE2 on residue GLU 220\n",
      "\u001b[0mcore.conformation.Conformation: \u001b[0m\u001b[1m[ WARNING ]\u001b[0m missing heavyatom:  CG  on residue GLU 257\n",
      "\u001b[0mcore.conformation.Conformation: \u001b[0m\u001b[1m[ WARNING ]\u001b[0m missing heavyatom:  CD  on residue GLU 257\n",
      "\u001b[0mcore.conformation.Conformation: \u001b[0m\u001b[1m[ WARNING ]\u001b[0m missing heavyatom:  OE1 on residue GLU 257\n",
      "\u001b[0mcore.conformation.Conformation: \u001b[0m\u001b[1m[ WARNING ]\u001b[0m missing heavyatom:  OE2 on residue GLU 257\n",
      "\u001b[0mcore.conformation.Conformation: \u001b[0m\u001b[1m[ WARNING ]\u001b[0m missing heavyatom:  CG  on residue ARG 272\n",
      "\u001b[0mcore.conformation.Conformation: \u001b[0m\u001b[1m[ WARNING ]\u001b[0m missing heavyatom:  CD  on residue ARG 272\n",
      "\u001b[0mcore.conformation.Conformation: \u001b[0m\u001b[1m[ WARNING ]\u001b[0m missing heavyatom:  NE  on residue ARG 272\n",
      "\u001b[0mcore.conformation.Conformation: \u001b[0m\u001b[1m[ WARNING ]\u001b[0m missing heavyatom:  CZ  on residue ARG 272\n",
      "\u001b[0mcore.conformation.Conformation: \u001b[0m\u001b[1m[ WARNING ]\u001b[0m missing heavyatom:  NH1 on residue ARG 272\n",
      "\u001b[0mcore.conformation.Conformation: \u001b[0m\u001b[1m[ WARNING ]\u001b[0m missing heavyatom:  NH2 on residue ARG 272\n",
      "\u001b[0mcore.conformation.Conformation: \u001b[0m\u001b[1m[ WARNING ]\u001b[0m missing heavyatom:  CG  on residue ARG 299\n",
      "\u001b[0mcore.conformation.Conformation: \u001b[0m\u001b[1m[ WARNING ]\u001b[0m missing heavyatom:  CD  on residue ARG 299\n",
      "\u001b[0mcore.conformation.Conformation: \u001b[0m\u001b[1m[ WARNING ]\u001b[0m missing heavyatom:  NE  on residue ARG 299\n",
      "\u001b[0mcore.conformation.Conformation: \u001b[0m\u001b[1m[ WARNING ]\u001b[0m missing heavyatom:  CZ  on residue ARG 299\n",
      "\u001b[0mcore.conformation.Conformation: \u001b[0m\u001b[1m[ WARNING ]\u001b[0m missing heavyatom:  NH1 on residue ARG 299\n",
      "\u001b[0mcore.conformation.Conformation: \u001b[0m\u001b[1m[ WARNING ]\u001b[0m missing heavyatom:  NH2 on residue ARG 299\n",
      "\u001b[0mcore.conformation.Conformation: \u001b[0m\u001b[1m[ WARNING ]\u001b[0m missing heavyatom:  CG  on residue ARG 502\n",
      "\u001b[0mcore.conformation.Conformation: \u001b[0m\u001b[1m[ WARNING ]\u001b[0m missing heavyatom:  CD  on residue ARG 502\n",
      "\u001b[0mcore.conformation.Conformation: \u001b[0m\u001b[1m[ WARNING ]\u001b[0m missing heavyatom:  NE  on residue ARG 502\n",
      "\u001b[0mcore.conformation.Conformation: \u001b[0m\u001b[1m[ WARNING ]\u001b[0m missing heavyatom:  CZ  on residue ARG 502\n",
      "\u001b[0mcore.conformation.Conformation: \u001b[0m\u001b[1m[ WARNING ]\u001b[0m missing heavyatom:  NH1 on residue ARG 502\n",
      "\u001b[0mcore.conformation.Conformation: \u001b[0m\u001b[1m[ WARNING ]\u001b[0m missing heavyatom:  NH2 on residue ARG 502\n",
      "\u001b[0mcore.conformation.Conformation: \u001b[0m\u001b[1m[ WARNING ]\u001b[0m missing heavyatom:  CG  on residue GLU 518\n",
      "\u001b[0mcore.conformation.Conformation: \u001b[0m\u001b[1m[ WARNING ]\u001b[0m missing heavyatom:  CD  on residue GLU 518\n",
      "\u001b[0mcore.conformation.Conformation: \u001b[0m\u001b[1m[ WARNING ]\u001b[0m missing heavyatom:  OE1 on residue GLU 518\n",
      "\u001b[0mcore.conformation.Conformation: \u001b[0m\u001b[1m[ WARNING ]\u001b[0m missing heavyatom:  OE2 on residue GLU 518\n",
      "\u001b[0mcore.conformation.Conformation: \u001b[0m\u001b[1m[ WARNING ]\u001b[0m missing heavyatom:  CG  on residue GLU 520\n",
      "\u001b[0mcore.conformation.Conformation: \u001b[0m\u001b[1m[ WARNING ]\u001b[0m missing heavyatom:  CD  on residue GLU 520\n",
      "\u001b[0mcore.conformation.Conformation: \u001b[0m\u001b[1m[ WARNING ]\u001b[0m missing heavyatom:  OE1 on residue GLU 520\n",
      "\u001b[0mcore.conformation.Conformation: \u001b[0m\u001b[1m[ WARNING ]\u001b[0m missing heavyatom:  OE2 on residue GLU 520\n",
      "\u001b[0mcore.conformation.Conformation: \u001b[0m\u001b[1m[ WARNING ]\u001b[0m missing heavyatom:  CG  on residue ARG 522\n",
      "\u001b[0mcore.conformation.Conformation: \u001b[0m\u001b[1m[ WARNING ]\u001b[0m missing heavyatom:  CD  on residue ARG 522\n",
      "\u001b[0mcore.conformation.Conformation: \u001b[0m\u001b[1m[ WARNING ]\u001b[0m missing heavyatom:  NE  on residue ARG 522\n",
      "\u001b[0mcore.conformation.Conformation: \u001b[0m\u001b[1m[ WARNING ]\u001b[0m missing heavyatom:  CZ  on residue ARG 522\n",
      "\u001b[0mcore.conformation.Conformation: \u001b[0m\u001b[1m[ WARNING ]\u001b[0m missing heavyatom:  NH1 on residue ARG 522\n",
      "\u001b[0mcore.conformation.Conformation: \u001b[0m\u001b[1m[ WARNING ]\u001b[0m missing heavyatom:  NH2 on residue ARG 522\n",
      "\u001b[0mcore.conformation.Conformation: \u001b[0m\u001b[1m[ WARNING ]\u001b[0m missing heavyatom:  OXT on residue THR:CtermProteinFull 613\n",
      "\u001b[0mcore.conformation.Conformation: \u001b[0m\u001b[1m[ WARNING ]\u001b[0m missing heavyatom:  CG  on residue ARG 631\n",
      "\u001b[0mcore.conformation.Conformation: \u001b[0m\u001b[1m[ WARNING ]\u001b[0m missing heavyatom:  CD  on residue ARG 631\n",
      "\u001b[0mcore.conformation.Conformation: \u001b[0m\u001b[1m[ WARNING ]\u001b[0m missing heavyatom:  NE  on residue ARG 631\n",
      "\u001b[0mcore.conformation.Conformation: \u001b[0m\u001b[1m[ WARNING ]\u001b[0m missing heavyatom:  CZ  on residue ARG 631\n",
      "\u001b[0mcore.conformation.Conformation: \u001b[0m\u001b[1m[ WARNING ]\u001b[0m missing heavyatom:  NH1 on residue ARG 631\n",
      "\u001b[0mcore.conformation.Conformation: \u001b[0m\u001b[1m[ WARNING ]\u001b[0m missing heavyatom:  NH2 on residue ARG 631\n",
      "\u001b[0mcore.conformation.Conformation: \u001b[0m\u001b[1m[ WARNING ]\u001b[0m missing heavyatom:  CG  on residue LYS 739\n",
      "\u001b[0mcore.conformation.Conformation: \u001b[0m\u001b[1m[ WARNING ]\u001b[0m missing heavyatom:  CD  on residue LYS 739\n",
      "\u001b[0mcore.conformation.Conformation: \u001b[0m\u001b[1m[ WARNING ]\u001b[0m missing heavyatom:  CE  on residue LYS 739\n"
     ]
    },
    {
     "name": "stdout",
     "output_type": "stream",
     "text": [
      "\u001b[0mcore.conformation.Conformation: \u001b[0m\u001b[1m[ WARNING ]\u001b[0m missing heavyatom:  NZ  on residue LYS 739\n",
      "\u001b[0mcore.conformation.Conformation: \u001b[0m\u001b[1m[ WARNING ]\u001b[0m missing heavyatom:  CG  on residue LYS 801\n",
      "\u001b[0mcore.conformation.Conformation: \u001b[0m\u001b[1m[ WARNING ]\u001b[0m missing heavyatom:  CD  on residue LYS 801\n",
      "\u001b[0mcore.conformation.Conformation: \u001b[0m\u001b[1m[ WARNING ]\u001b[0m missing heavyatom:  CE  on residue LYS 801\n",
      "\u001b[0mcore.conformation.Conformation: \u001b[0m\u001b[1m[ WARNING ]\u001b[0m missing heavyatom:  NZ  on residue LYS 801\n",
      "\u001b[0mcore.conformation.Conformation: \u001b[0m\u001b[1m[ WARNING ]\u001b[0m missing heavyatom:  OXT on residue ARG:CtermProteinFull 824\n",
      "\u001b[0mcore.conformation.Conformation: \u001b[0m\u001b[1m[ WARNING ]\u001b[0m missing heavyatom:  CG  on residue ARG:CtermProteinFull 824\n",
      "\u001b[0mcore.conformation.Conformation: \u001b[0m\u001b[1m[ WARNING ]\u001b[0m missing heavyatom:  CD  on residue ARG:CtermProteinFull 824\n",
      "\u001b[0mcore.conformation.Conformation: \u001b[0m\u001b[1m[ WARNING ]\u001b[0m missing heavyatom:  NE  on residue ARG:CtermProteinFull 824\n",
      "\u001b[0mcore.conformation.Conformation: \u001b[0m\u001b[1m[ WARNING ]\u001b[0m missing heavyatom:  CZ  on residue ARG:CtermProteinFull 824\n",
      "\u001b[0mcore.conformation.Conformation: \u001b[0m\u001b[1m[ WARNING ]\u001b[0m missing heavyatom:  NH1 on residue ARG:CtermProteinFull 824\n",
      "\u001b[0mcore.conformation.Conformation: \u001b[0m\u001b[1m[ WARNING ]\u001b[0m missing heavyatom:  NH2 on residue ARG:CtermProteinFull 824\n",
      "\u001b[0mcore.conformation.Conformation: \u001b[0m\u001b[1m[ WARNING ]\u001b[0m missing heavyatom:  CG  on residue LYS 959\n",
      "\u001b[0mcore.conformation.Conformation: \u001b[0m\u001b[1m[ WARNING ]\u001b[0m missing heavyatom:  CD  on residue LYS 959\n",
      "\u001b[0mcore.conformation.Conformation: \u001b[0m\u001b[1m[ WARNING ]\u001b[0m missing heavyatom:  CE  on residue LYS 959\n",
      "\u001b[0mcore.conformation.Conformation: \u001b[0m\u001b[1m[ WARNING ]\u001b[0m missing heavyatom:  NZ  on residue LYS 959\n",
      "\u001b[0mcore.conformation.Conformation: \u001b[0m\u001b[1m[ WARNING ]\u001b[0m missing heavyatom:  CG  on residue LYS 1039\n",
      "\u001b[0mcore.conformation.Conformation: \u001b[0m\u001b[1m[ WARNING ]\u001b[0m missing heavyatom:  CD  on residue LYS 1039\n",
      "\u001b[0mcore.conformation.Conformation: \u001b[0m\u001b[1m[ WARNING ]\u001b[0m missing heavyatom:  CE  on residue LYS 1039\n",
      "\u001b[0mcore.conformation.Conformation: \u001b[0m\u001b[1m[ WARNING ]\u001b[0m missing heavyatom:  NZ  on residue LYS 1039\n",
      "\u001b[0mcore.conformation.Conformation: \u001b[0m\u001b[1m[ WARNING ]\u001b[0m missing heavyatom:  CG  on residue ARG 1040\n",
      "\u001b[0mcore.conformation.Conformation: \u001b[0m\u001b[1m[ WARNING ]\u001b[0m missing heavyatom:  CD  on residue ARG 1040\n",
      "\u001b[0mcore.conformation.Conformation: \u001b[0m\u001b[1m[ WARNING ]\u001b[0m missing heavyatom:  NE  on residue ARG 1040\n",
      "\u001b[0mcore.conformation.Conformation: \u001b[0m\u001b[1m[ WARNING ]\u001b[0m missing heavyatom:  CZ  on residue ARG 1040\n",
      "\u001b[0mcore.conformation.Conformation: \u001b[0m\u001b[1m[ WARNING ]\u001b[0m missing heavyatom:  NH1 on residue ARG 1040\n",
      "\u001b[0mcore.conformation.Conformation: \u001b[0m\u001b[1m[ WARNING ]\u001b[0m missing heavyatom:  NH2 on residue ARG 1040\n",
      "\u001b[0mcore.conformation.Conformation: \u001b[0m\u001b[1m[ WARNING ]\u001b[0m missing heavyatom:  OXT on residue LYS:CtermProteinFull 1044\n",
      "\u001b[0mcore.conformation.Conformation: \u001b[0m\u001b[1m[ WARNING ]\u001b[0m missing heavyatom:  CG  on residue LYS:CtermProteinFull 1044\n",
      "\u001b[0mcore.conformation.Conformation: \u001b[0m\u001b[1m[ WARNING ]\u001b[0m missing heavyatom:  CD  on residue LYS:CtermProteinFull 1044\n",
      "\u001b[0mcore.conformation.Conformation: \u001b[0m\u001b[1m[ WARNING ]\u001b[0m missing heavyatom:  CE  on residue LYS:CtermProteinFull 1044\n",
      "\u001b[0mcore.conformation.Conformation: \u001b[0m\u001b[1m[ WARNING ]\u001b[0m missing heavyatom:  NZ  on residue LYS:CtermProteinFull 1044\n",
      "\u001b[0mcore.conformation.Conformation: \u001b[0mFound disulfide between residues 6 33\n",
      "\u001b[0mcore.conformation.Conformation: \u001b[0mcurrent variant for 6 CYS\n",
      "\u001b[0mcore.conformation.Conformation: \u001b[0mcurrent variant for 33 CYS\n",
      "\u001b[0mcore.conformation.Conformation: \u001b[0mcurrent variant for 6 CYD\n",
      "\u001b[0mcore.conformation.Conformation: \u001b[0mcurrent variant for 33 CYD\n",
      "\u001b[0mcore.conformation.Conformation: \u001b[0mFound disulfide between residues 132 162\n",
      "\u001b[0mcore.conformation.Conformation: \u001b[0mcurrent variant for 132 CYS\n",
      "\u001b[0mcore.conformation.Conformation: \u001b[0mcurrent variant for 162 CYS\n",
      "\u001b[0mcore.conformation.Conformation: \u001b[0mcurrent variant for 132 CYD\n",
      "\u001b[0mcore.conformation.Conformation: \u001b[0mcurrent variant for 162 CYD\n",
      "\u001b[0mcore.conformation.Conformation: \u001b[0mFound disulfide between residues 165 174\n",
      "\u001b[0mcore.conformation.Conformation: \u001b[0mcurrent variant for 165 CYS\n",
      "\u001b[0mcore.conformation.Conformation: \u001b[0mcurrent variant for 174 CYS\n",
      "\u001b[0mcore.conformation.Conformation: \u001b[0mcurrent variant for 165 CYD\n",
      "\u001b[0mcore.conformation.Conformation: \u001b[0mcurrent variant for 174 CYD\n",
      "\u001b[0mcore.conformation.Conformation: \u001b[0mFound disulfide between residues 169 182\n",
      "\u001b[0mcore.conformation.Conformation: \u001b[0mcurrent variant for 169 CYS\n",
      "\u001b[0mcore.conformation.Conformation: \u001b[0mcurrent variant for 182 CYS\n",
      "\u001b[0mcore.conformation.Conformation: \u001b[0mcurrent variant for 169 CYD\n",
      "\u001b[0mcore.conformation.Conformation: \u001b[0mcurrent variant for 182 CYD\n",
      "\u001b[0mcore.conformation.Conformation: \u001b[0mFound disulfide between residues 190 198\n",
      "\u001b[0mcore.conformation.Conformation: \u001b[0mcurrent variant for 190 CYS\n",
      "\u001b[0mcore.conformation.Conformation: \u001b[0mcurrent variant for 198 CYS\n",
      "\u001b[0mcore.conformation.Conformation: \u001b[0mcurrent variant for 190 CYD\n",
      "\u001b[0mcore.conformation.Conformation: \u001b[0mcurrent variant for 198 CYD\n",
      "\u001b[0mcore.conformation.Conformation: \u001b[0mFound disulfide between residues 194 206\n",
      "\u001b[0mcore.conformation.Conformation: \u001b[0mcurrent variant for 194 CYS\n",
      "\u001b[0mcore.conformation.Conformation: \u001b[0mcurrent variant for 206 CYS\n",
      "\u001b[0mcore.conformation.Conformation: \u001b[0mcurrent variant for 194 CYD\n",
      "\u001b[0mcore.conformation.Conformation: \u001b[0mcurrent variant for 206 CYD\n",
      "\u001b[0mcore.conformation.Conformation: \u001b[0mFound disulfide between residues 207 215\n",
      "\u001b[0mcore.conformation.Conformation: \u001b[0mcurrent variant for 207 CYS\n",
      "\u001b[0mcore.conformation.Conformation: \u001b[0mcurrent variant for 215 CYS\n",
      "\u001b[0mcore.conformation.Conformation: \u001b[0mcurrent variant for 207 CYD\n",
      "\u001b[0mcore.conformation.Conformation: \u001b[0mcurrent variant for 215 CYD\n",
      "\u001b[0mcore.conformation.Conformation: \u001b[0mFound disulfide between residues 211 223\n",
      "\u001b[0mcore.conformation.Conformation: \u001b[0mcurrent variant for 211 CYS\n",
      "\u001b[0mcore.conformation.Conformation: \u001b[0mcurrent variant for 223 CYS\n",
      "\u001b[0mcore.conformation.Conformation: \u001b[0mcurrent variant for 211 CYD\n",
      "\u001b[0mcore.conformation.Conformation: \u001b[0mcurrent variant for 223 CYD\n",
      "\u001b[0mcore.conformation.Conformation: \u001b[0mFound disulfide between residues 226 235\n",
      "\u001b[0mcore.conformation.Conformation: \u001b[0mcurrent variant for 226 CYS\n",
      "\u001b[0mcore.conformation.Conformation: \u001b[0mcurrent variant for 235 CYS\n",
      "\u001b[0mcore.conformation.Conformation: \u001b[0mcurrent variant for 226 CYD\n",
      "\u001b[0mcore.conformation.Conformation: \u001b[0mcurrent variant for 235 CYD\n",
      "\u001b[0mcore.conformation.Conformation: \u001b[0mFound disulfide between residues 239 266\n",
      "\u001b[0mcore.conformation.Conformation: \u001b[0mcurrent variant for 239 CYS\n",
      "\u001b[0mcore.conformation.Conformation: \u001b[0mcurrent variant for 266 CYS\n",
      "\u001b[0mcore.conformation.Conformation: \u001b[0mcurrent variant for 239 CYD\n",
      "\u001b[0mcore.conformation.Conformation: \u001b[0mcurrent variant for 266 CYD\n",
      "\u001b[0mcore.conformation.Conformation: \u001b[0mFound disulfide between residues 270 282\n",
      "\u001b[0mcore.conformation.Conformation: \u001b[0mcurrent variant for 270 CYS\n",
      "\u001b[0mcore.conformation.Conformation: \u001b[0mcurrent variant for 282 CYS\n",
      "\u001b[0mcore.conformation.Conformation: \u001b[0mcurrent variant for 270 CYD\n",
      "\u001b[0mcore.conformation.Conformation: \u001b[0mcurrent variant for 282 CYD\n",
      "\u001b[0mcore.conformation.Conformation: \u001b[0mFound disulfide between residues 286 301\n",
      "\u001b[0mcore.conformation.Conformation: \u001b[0mcurrent variant for 286 CYS\n",
      "\u001b[0mcore.conformation.Conformation: \u001b[0mcurrent variant for 301 CYS\n",
      "\u001b[0mcore.conformation.Conformation: \u001b[0mcurrent variant for 286 CYD\n",
      "\u001b[0mcore.conformation.Conformation: \u001b[0mcurrent variant for 301 CYD\n",
      "\u001b[0mcore.conformation.Conformation: \u001b[0mFound disulfide between residues 304 308\n",
      "\u001b[0mcore.conformation.Conformation: \u001b[0mcurrent variant for 304 CYS\n",
      "\u001b[0mcore.conformation.Conformation: \u001b[0mcurrent variant for 308 CYS\n",
      "\u001b[0mcore.conformation.Conformation: \u001b[0mcurrent variant for 304 CYD\n",
      "\u001b[0mcore.conformation.Conformation: \u001b[0mcurrent variant for 308 CYD\n",
      "\u001b[0mcore.conformation.Conformation: \u001b[0mFound disulfide between residues 312 337\n",
      "\u001b[0mcore.conformation.Conformation: \u001b[0mcurrent variant for 312 CYS\n",
      "\u001b[0mcore.conformation.Conformation: \u001b[0mcurrent variant for 337 CYS\n"
     ]
    },
    {
     "name": "stdout",
     "output_type": "stream",
     "text": [
      "\u001b[0mcore.conformation.Conformation: \u001b[0mcurrent variant for 312 CYD\n",
      "\u001b[0mcore.conformation.Conformation: \u001b[0mcurrent variant for 337 CYD\n",
      "\u001b[0mcore.conformation.Conformation: \u001b[0mFound disulfide between residues 445 474\n",
      "\u001b[0mcore.conformation.Conformation: \u001b[0mcurrent variant for 445 CYS\n",
      "\u001b[0mcore.conformation.Conformation: \u001b[0mcurrent variant for 474 CYS\n",
      "\u001b[0mcore.conformation.Conformation: \u001b[0mcurrent variant for 445 CYD\n",
      "\u001b[0mcore.conformation.Conformation: \u001b[0mcurrent variant for 474 CYD\n",
      "\u001b[0mcore.conformation.Conformation: \u001b[0mFound disulfide between residues 481 490\n",
      "\u001b[0mcore.conformation.Conformation: \u001b[0mcurrent variant for 481 CYS\n",
      "\u001b[0mcore.conformation.Conformation: \u001b[0mcurrent variant for 490 CYS\n",
      "\u001b[0mcore.conformation.Conformation: \u001b[0mcurrent variant for 481 CYD\n",
      "\u001b[0mcore.conformation.Conformation: \u001b[0mcurrent variant for 490 CYD\n",
      "\u001b[0mcore.conformation.Conformation: \u001b[0mFound disulfide between residues 485 498\n",
      "\u001b[0mcore.conformation.Conformation: \u001b[0mcurrent variant for 485 CYS\n",
      "\u001b[0mcore.conformation.Conformation: \u001b[0mcurrent variant for 498 CYS\n",
      "\u001b[0mcore.conformation.Conformation: \u001b[0mcurrent variant for 485 CYD\n",
      "\u001b[0mcore.conformation.Conformation: \u001b[0mcurrent variant for 498 CYD\n",
      "\u001b[0mcore.conformation.Conformation: \u001b[0mFound disulfide between residues 501 510\n",
      "\u001b[0mcore.conformation.Conformation: \u001b[0mcurrent variant for 501 CYS\n",
      "\u001b[0mcore.conformation.Conformation: \u001b[0mcurrent variant for 510 CYS\n",
      "\u001b[0mcore.conformation.Conformation: \u001b[0mcurrent variant for 501 CYD\n",
      "\u001b[0mcore.conformation.Conformation: \u001b[0mcurrent variant for 510 CYD\n",
      "\u001b[0mcore.conformation.Conformation: \u001b[0mFound disulfide between residues 514 530\n",
      "\u001b[0mcore.conformation.Conformation: \u001b[0mcurrent variant for 514 CYS\n",
      "\u001b[0mcore.conformation.Conformation: \u001b[0mcurrent variant for 530 CYS\n",
      "\u001b[0mcore.conformation.Conformation: \u001b[0mcurrent variant for 514 CYD\n",
      "\u001b[0mcore.conformation.Conformation: \u001b[0mcurrent variant for 530 CYD\n",
      "\u001b[0mcore.conformation.Conformation: \u001b[0mFound disulfide between residues 533 546\n",
      "\u001b[0mcore.conformation.Conformation: \u001b[0mcurrent variant for 533 CYS\n",
      "\u001b[0mcore.conformation.Conformation: \u001b[0mcurrent variant for 546 CYS\n",
      "\u001b[0mcore.conformation.Conformation: \u001b[0mcurrent variant for 533 CYD\n",
      "\u001b[0mcore.conformation.Conformation: \u001b[0mcurrent variant for 546 CYD\n",
      "\u001b[0mcore.conformation.Conformation: \u001b[0mFound disulfide between residues 537 554\n",
      "\u001b[0mcore.conformation.Conformation: \u001b[0mcurrent variant for 537 CYS\n",
      "\u001b[0mcore.conformation.Conformation: \u001b[0mcurrent variant for 554 CYS\n",
      "\u001b[0mcore.conformation.Conformation: \u001b[0mcurrent variant for 537 CYD\n",
      "\u001b[0mcore.conformation.Conformation: \u001b[0mcurrent variant for 554 CYD\n",
      "\u001b[0mcore.conformation.Conformation: \u001b[0mFound disulfide between residues 557 566\n",
      "\u001b[0mcore.conformation.Conformation: \u001b[0mcurrent variant for 557 CYS\n",
      "\u001b[0mcore.conformation.Conformation: \u001b[0mcurrent variant for 566 CYS\n",
      "\u001b[0mcore.conformation.Conformation: \u001b[0mcurrent variant for 557 CYD\n",
      "\u001b[0mcore.conformation.Conformation: \u001b[0mcurrent variant for 566 CYD\n",
      "\u001b[0mcore.conformation.Conformation: \u001b[0mFound disulfide between residues 570 592\n",
      "\u001b[0mcore.conformation.Conformation: \u001b[0mcurrent variant for 570 CYS\n",
      "\u001b[0mcore.conformation.Conformation: \u001b[0mcurrent variant for 592 CYS\n",
      "\u001b[0mcore.conformation.Conformation: \u001b[0mcurrent variant for 570 CYD\n",
      "\u001b[0mcore.conformation.Conformation: \u001b[0mcurrent variant for 592 CYD\n",
      "\u001b[0mcore.conformation.Conformation: \u001b[0mFound disulfide between residues 595 603\n",
      "\u001b[0mcore.conformation.Conformation: \u001b[0mcurrent variant for 595 CYS\n",
      "\u001b[0mcore.conformation.Conformation: \u001b[0mcurrent variant for 603 CYS\n",
      "\u001b[0mcore.conformation.Conformation: \u001b[0mcurrent variant for 595 CYD\n",
      "\u001b[0mcore.conformation.Conformation: \u001b[0mcurrent variant for 603 CYD\n",
      "\u001b[0mcore.conformation.Conformation: \u001b[0mFound disulfide between residues 599 611\n",
      "\u001b[0mcore.conformation.Conformation: \u001b[0mcurrent variant for 599 CYS\n",
      "\u001b[0mcore.conformation.Conformation: \u001b[0mcurrent variant for 611 CYS\n",
      "\u001b[0mcore.conformation.Conformation: \u001b[0mcurrent variant for 599 CYD\n",
      "\u001b[0mcore.conformation.Conformation: \u001b[0mcurrent variant for 611 CYD\n",
      "\u001b[0mcore.conformation.Conformation: \u001b[0mFound disulfide between residues 636 701\n",
      "\u001b[0mcore.conformation.Conformation: \u001b[0mcurrent variant for 636 CYS\n",
      "\u001b[0mcore.conformation.Conformation: \u001b[0mcurrent variant for 701 CYS\n",
      "\u001b[0mcore.conformation.Conformation: \u001b[0mcurrent variant for 636 CYD\n",
      "\u001b[0mcore.conformation.Conformation: \u001b[0mcurrent variant for 701 CYD\n",
      "\u001b[0mcore.conformation.Conformation: \u001b[0mFound disulfide between residues 747 807\n",
      "\u001b[0mcore.conformation.Conformation: \u001b[0mcurrent variant for 747 CYS\n",
      "\u001b[0mcore.conformation.Conformation: \u001b[0mcurrent variant for 807 CYS\n",
      "\u001b[0mcore.conformation.Conformation: \u001b[0mcurrent variant for 747 CYD\n",
      "\u001b[0mcore.conformation.Conformation: \u001b[0mcurrent variant for 807 CYD\n",
      "\u001b[0mcore.conformation.Conformation: \u001b[0mFound disulfide between residues 846 919\n",
      "\u001b[0mcore.conformation.Conformation: \u001b[0mcurrent variant for 846 CYS\n",
      "\u001b[0mcore.conformation.Conformation: \u001b[0mcurrent variant for 919 CYS\n",
      "\u001b[0mcore.conformation.Conformation: \u001b[0mcurrent variant for 846 CYD\n",
      "\u001b[0mcore.conformation.Conformation: \u001b[0mcurrent variant for 919 CYD\n",
      "\u001b[0mcore.conformation.Conformation: \u001b[0mFound disulfide between residues 970 1026\n",
      "\u001b[0mcore.conformation.Conformation: \u001b[0mcurrent variant for 970 CYS\n",
      "\u001b[0mcore.conformation.Conformation: \u001b[0mcurrent variant for 1026 CYS\n",
      "\u001b[0mcore.conformation.Conformation: \u001b[0mcurrent variant for 970 CYD\n",
      "\u001b[0mcore.conformation.Conformation: \u001b[0mcurrent variant for 1026 CYD\n",
      "\u001b[0mcore.pack.pack_missing_sidechains: \u001b[0mpacking residue number 1 because of missing atom number 6 atom name  CG\n",
      "\u001b[0mcore.pack.pack_missing_sidechains: \u001b[0mpacking residue number 2 because of missing atom number 6 atom name  CG\n",
      "\u001b[0mcore.pack.pack_missing_sidechains: \u001b[0mpacking residue number 3 because of missing atom number 6 atom name  CG\n",
      "\u001b[0mcore.pack.pack_missing_sidechains: \u001b[0mpacking residue number 138 because of missing atom number 6 atom name  CG\n",
      "\u001b[0mcore.pack.pack_missing_sidechains: \u001b[0mpacking residue number 179 because of missing atom number 6 atom name  CG\n",
      "\u001b[0mcore.pack.pack_missing_sidechains: \u001b[0mpacking residue number 192 because of missing atom number 6 atom name  CG\n",
      "\u001b[0mcore.pack.pack_missing_sidechains: \u001b[0mpacking residue number 193 because of missing atom number 6 atom name  CG\n",
      "\u001b[0mcore.pack.pack_missing_sidechains: \u001b[0mpacking residue number 220 because of missing atom number 6 atom name  CG\n",
      "\u001b[0mcore.pack.pack_missing_sidechains: \u001b[0mpacking residue number 257 because of missing atom number 6 atom name  CG\n",
      "\u001b[0mcore.pack.pack_missing_sidechains: \u001b[0mpacking residue number 272 because of missing atom number 6 atom name  CG\n",
      "\u001b[0mcore.pack.pack_missing_sidechains: \u001b[0mpacking residue number 299 because of missing atom number 6 atom name  CG\n",
      "\u001b[0mcore.pack.pack_missing_sidechains: \u001b[0mpacking residue number 502 because of missing atom number 6 atom name  CG\n",
      "\u001b[0mcore.pack.pack_missing_sidechains: \u001b[0mpacking residue number 518 because of missing atom number 6 atom name  CG\n",
      "\u001b[0mcore.pack.pack_missing_sidechains: \u001b[0mpacking residue number 520 because of missing atom number 6 atom name  CG\n",
      "\u001b[0mcore.pack.pack_missing_sidechains: \u001b[0mpacking residue number 522 because of missing atom number 6 atom name  CG\n",
      "\u001b[0mcore.pack.pack_missing_sidechains: \u001b[0mpacking residue number 631 because of missing atom number 6 atom name  CG\n",
      "\u001b[0mcore.pack.pack_missing_sidechains: \u001b[0mpacking residue number 739 because of missing atom number 6 atom name  CG\n",
      "\u001b[0mcore.pack.pack_missing_sidechains: \u001b[0mpacking residue number 801 because of missing atom number 6 atom name  CG\n",
      "\u001b[0mcore.pack.pack_missing_sidechains: \u001b[0mpacking residue number 824 because of missing atom number 7 atom name  CG\n",
      "\u001b[0mcore.pack.pack_missing_sidechains: \u001b[0mpacking residue number 959 because of missing atom number 6 atom name  CG\n",
      "\u001b[0mcore.pack.pack_missing_sidechains: \u001b[0mpacking residue number 1039 because of missing atom number 6 atom name  CG\n",
      "\u001b[0mcore.pack.pack_missing_sidechains: \u001b[0mpacking residue number 1040 because of missing atom number 6 atom name  CG\n",
      "\u001b[0mcore.pack.pack_missing_sidechains: \u001b[0mpacking residue number 1044 because of missing atom number 7 atom name  CG\n",
      "\u001b[0mcore.pack.task: \u001b[0mPacker task: initialize from command line()\n",
      "\u001b[0mcore.scoring.ScoreFunctionFactory: \u001b[0mSCOREFUNCTION: \u001b[32mref2015\u001b[0m\n"
     ]
    },
    {
     "name": "stdout",
     "output_type": "stream",
     "text": [
      "\u001b[0mcore.pack.pack_rotamers: \u001b[0mbuilt 313 rotamers at 23 positions.\n",
      "\u001b[0mcore.pack.interaction_graph.interaction_graph_factory: \u001b[0mInstantiating DensePDInteractionGraph\n"
     ]
    }
   ],
   "source": [
    "pose = pyrosetta.toolbox.pose_from_rcsb('1YY9')\n",
    "res102 = pose.residue(pose.pdb_info().pdb2pose('D', 102))\n",
    "res408 = pose.residue(pose.pdb_info().pdb2pose('A', 408))"
   ]
  },
  {
   "cell_type": "code",
   "execution_count": 44,
   "metadata": {},
   "outputs": [
    {
     "data": {
      "text/plain": [
       "'TYR'"
      ]
     },
     "execution_count": 44,
     "metadata": {},
     "output_type": "execute_result"
    }
   ],
   "source": [
    "res102.name()"
   ]
  },
  {
   "cell_type": "markdown",
   "metadata": {},
   "source": [
    "* Score the pose and determine the van der Waals energies and solvation energy between these two residues."
   ]
  },
  {
   "cell_type": "code",
   "execution_count": 46,
   "metadata": {},
   "outputs": [],
   "source": [
    "emap = EMapVector()\n",
    "sfxn.eval_ci_2b(res102, res408, pose, emap)"
   ]
  },
  {
   "cell_type": "code",
   "execution_count": 48,
   "metadata": {},
   "outputs": [
    {
     "name": "stdout",
     "output_type": "stream",
     "text": [
      "( fa_atr; -1.20988) ( fa_rep; 0.108354) ( fa_sol; 1.57294) ( fa_intra_atr; 0) ( fa_intra_rep; 0) ( fa_intra_sol; 0) ( fa_intra_atr_xover4; 0) ( fa_intra_rep_xover4; 0) ( fa_intra_sol_xover4; 0) ( fa_intra_atr_nonprotein; 0) ( fa_intra_rep_nonprotein; 0) ( fa_intra_sol_nonprotein; 0) ( fa_intra_RNA_base_phos_atr; 0) ( fa_intra_RNA_base_phos_rep; 0) ( fa_intra_RNA_base_phos_sol; 0) ( fa_atr_dummy; 0) ( fa_rep_dummy; 0) ( fa_sol_dummy; 0) ( fa_vdw_tinker; 0) ( lk_hack; 0) ( lk_ball; 1.71256) ( lk_ball_wtd; 0.471204) ( lk_ball_iso; 1.87577) ( lk_ball_bridge; 0) ( lk_ball_bridge_uncpl; 0) ( coarse_fa_atr; 0) ( coarse_fa_rep; 0) ( coarse_fa_sol; 0) ( coarse_beadlj; 0) ( mm_lj_intra_rep; 0) ( mm_lj_intra_atr; 0) ( mm_lj_inter_rep; 0) ( mm_lj_inter_atr; 0) ( mm_twist; 0) ( mm_bend; 0) ( mm_stretch; 0) ( lk_costheta; 0) ( lk_polar; 0) ( lk_nonpolar; 0) ( lk_polar_intra_RNA; 0) ( lk_nonpolar_intra_RNA; 0) ( fa_elec; 0.466546) ( fa_elec_bb_bb; 0) ( fa_elec_bb_sc; 0) ( fa_elec_sc_sc; 0.466546) ( fa_intra_elec; 0) ( h2o_hbond; 0) ( dna_dr; 0) ( dna_bp; 0) ( dna_bs; 0) ( dna_ref; 0) ( peptide_bond; 0) ( pcs; 0) ( pcsTs1; 0) ( pcsTs2; 0) ( pcsTs3; 0) ( pcsTs4; 0) ( pcs2; 0) ( fastsaxs; 0) ( saxs_score; 0) ( saxs_cen_score; 0) ( saxs_fa_score; 0) ( pddf_score; 0) ( fiberdiffraction; 0) ( fiberdiffractiondens; 0) ( epr_deer_score; 0) ( fa_mbenv; 0) ( fa_mbsolv; 0) ( fa_elec_rna_phos_phos; 0) ( fa_elec_rna_phos_sugr; 0) ( fa_elec_rna_phos_base; 0) ( fa_elec_rna_sugr_sugr; 0) ( fa_elec_rna_sugr_base; 0) ( fa_elec_rna_base_base; 0) ( fa_elec_rna_phos_phos_fast; 0) ( fa_elec_rna_phos_sugr_fast; 0) ( fa_elec_rna_phos_base_fast; 0) ( fa_elec_rna_sugr_sugr_fast; 0) ( fa_elec_rna_sugr_base_fast; 0) ( fa_elec_rna_base_base_fast; 0) ( fa_elec_aro_aro; 0) ( fa_elec_aro_all; 0) ( hack_aro; 0) ( rna_fa_atr_base; 0) ( rna_fa_rep_base; 0) ( rna_data_backbone; 0) ( ch_bond; 0) ( ch_bond_bb_bb; 0) ( ch_bond_sc_sc; 0) ( ch_bond_bb_sc; 0) ( pro_close; 0) ( rama2b; 0) ( vdw; 0) ( cenpack; 0) ( cenpack_smooth; 0) ( cen_hb; 0) ( hybrid_vdw; 0) ( gauss; 0) ( rna_vdw; 0) ( rnp_vdw; 0) ( rna_base_backbone; 0) ( rna_backbone_backbone; 0) ( rna_repulsive; 0) ( rna_base_pair_pairwise; 0) ( rna_base_axis_pairwise; 0) ( rna_base_stagger_pairwise; 0) ( rna_base_stack_pairwise; 0) ( rna_base_stack_axis_pairwise; 0) ( rna_data_base; 0) ( rna_base_pair; 0) ( rna_base_axis; 0) ( rna_base_stagger; 0) ( rna_base_stack; 0) ( rna_base_stack_axis; 0) ( rnp_base_pair; 0) ( rnp_stack; 0) ( rnp_stack_xy; 0) ( rnp_pair; 0) ( rnp_pair_dist; 0) ( rnp_aa_to_rna_backbone; 0) ( rna_mg_point; 0) ( rna_mg_point_indirect; 0) ( mg; 0) ( mg_lig; 0) ( mg_sol; 0) ( mg_ref; 0) ( hoh_ref; 0) ( rna_torsion; 0) ( rna_torsion_sc; 0) ( rna_suite; 0) ( rna_jr_suite; 0) ( suiteness_bonus; 0) ( tna_suite; 0) ( rna_sugar_close; 0) ( fa_stack; 0) ( fa_stack_lower; 0) ( fa_stack_upper; 0) ( fa_stack_aro; 0) ( fa_stack_ext; 0) ( fa_stack_sol; 0) ( fa_stack_lr; 0) ( fa_stack_rna_protein; 0) ( fa_stack_rna_protein_aro; 0) ( ss_contact_worst; 0) ( stack_elec; 0) ( stack_elec_base_base; 0) ( stack_elec_base_bb; 0) ( alignment; 0) ( dna_bb_torsion; 0) ( dna_sugar_close; 0) ( dna_base_distance; 0) ( geom_sol_fast; 0) ( geom_sol_fast_intra_RNA; 0) ( fa_cust_pair_dist; 0) ( custom_atom_pair; 0) ( orbitals_hpol_bb; 0) ( pci_cation_pi; 0) ( pci_pi_pi; 0) ( pci_salt_bridge; 0) ( pci_hbond; 0) ( arg_cation_pi; 0) ( PyRosettaTwoBodyContextIndepenedentEnergy_first; 0) ( PyRosettaTwoBodyContextIndepenedentEnergy_163; 0) ( PyRosettaTwoBodyContextIndepenedentEnergy_164; 0) ( PyRosettaTwoBodyContextIndepenedentEnergy_165; 0) ( PyRosettaTwoBodyContextIndepenedentEnergy_166; 0) ( PyRosettaTwoBodyContextIndepenedentEnergy_167; 0) ( PyRosettaTwoBodyContextIndepenedentEnergy_168; 0) ( PyRosettaTwoBodyContextIndepenedentEnergy_169; 0) ( PyRosettaTwoBodyContextIndepenedentEnergy_170; 0) ( PyRosettaTwoBodyContextIndepenedentEnergy_171; 0) ( PyRosettaTwoBodyContextIndepenedentEnergy_last; 0) ( python; 0) ( fa_pair; 0) ( fa_pair_aro_aro; 0) ( fa_pair_aro_pol; 0) ( fa_pair_pol_pol; 0) ( hbond_sr_bb; 0) ( hbond_lr_bb; 0) ( hbond_bb_sc; 0) ( hbond_sr_bb_sc; 0) ( hbond_lr_bb_sc; 0) ( hbond_sc; 0) ( hbond_intra; 0) ( hbond_wat; 0) ( wat_entropy; 0) ( hbond; 0) ( npd_hbond_sr_bb; 0) ( npd_hbond_lr_bb; 0) ( npd_hbond_bb_sc; 0) ( npd_hbond_sr_bb_sc; 0) ( npd_hbond_lr_bb_sc; 0) ( npd_hbond_sc; 0) ( npd_hbond_intra; 0) ( npd_hbond; 0) ( fa_grpelec; 0) ( PyRosettaTwoBodyContextDependentEnergy_first; 0) ( PyRosettaTwoBodyContextDependentEnergy_198; 0) ( PyRosettaTwoBodyContextDependentEnergy_199; 0) ( PyRosettaTwoBodyContextDependentEnergy_200; 0) ( PyRosettaTwoBodyContextDependentEnergy_201; 0) ( PyRosettaTwoBodyContextDependentEnergy_202; 0) ( PyRosettaTwoBodyContextDependentEnergy_203; 0) ( PyRosettaTwoBodyContextDependentEnergy_204; 0) ( PyRosettaTwoBodyContextDependentEnergy_205; 0) ( PyRosettaTwoBodyContextDependentEnergy_206; 0) ( PyRosettaTwoBodyContextDependentEnergy_last; 0) ( interface_dd_pair; 0) ( geom_sol; 0) ( geom_sol_intra_RNA; 0) ( occ_sol_fitted; 0) ( occ_sol_fitted_onebody; 0) ( occ_sol_exact; 0) ( cen_rot_pair; 0) ( cen_rot_pair_ang; 0) ( cen_rot_pair_dih; 0) ( pair; 0) ( cen_pair_smooth; 0) ( Mpair; 0) ( mp_pair; 0) ( fa_mpsolv; 0) ( suck; 0) ( rna_rg; 0) ( rna_motif; 0) ( facts_elec; 0) ( facts_solv; 0) ( facts_sasa; 0) ( motif_dock; 0) ( pointwater; 0) ( goap; 0) ( goap_dist; 0) ( goap_angle; 0) ( approximate_buried_unsat_penalty; 0) ( interchain_pair; 0) ( interchain_vdw; 0) ( gb_elec; 0) ( multipole_elec; 0) ( fa_sasa; 0) ( dslf_ss_dst; 0) ( dslf_cs_ang; 0) ( dslf_ss_dih; 0) ( dslf_ca_dih; 0) ( dslf_cbs_ds; 0) ( dslf_fa13; 0) ( dslfc_cen_dst; 0) ( dslfc_cb_dst; 0) ( dslfc_ang; 0) ( dslfc_cb_dih; 0) ( dslfc_bb_dih; 0) ( dslfc_rot; 0) ( dslfc_trans; 0) ( dslfc_RT; 0) ( atom_pair_constraint; 0) ( base_pair_constraint; 0) ( coarse_chainbreak_constraint; 0) ( constant_constraint; 0) ( coordinate_constraint; 0) ( angle_constraint; 0) ( dihedral_constraint; 0) ( big_bin_constraint; 0) ( dunbrack_constraint; 0) ( site_constraint; 0) ( metalhash_constraint; 0) ( metalbinding_constraint; 0) ( rna_stub_coord_hack; 0) ( bond_geometry; 0) ( rna_bond_geometry; 0) ( Hpol_bond_geometry; 0) ( rama; 0) ( omega; 0) ( fa_dun; 0) ( fa_dun_dev; 0) ( fa_dun_rot; 0) ( fa_dun_semi; 0) ( cen_rot_dun; 0) ( dna_chi; 0) ( p_aa_pp; 0) ( p_aa_ss; 0) ( yhh_planarity; 0) ( hxl_tors; 0) ( h2o_intra; 0) ( ref; 0) ( ref_nc; 0) ( seqdep_ref; 0) ( nmer_ref; 0) ( nmer_pssm; 0) ( nmer_svm; 0) ( envsmooth; 0) ( e_pH; 0) ( rna_bulge; 0) ( dna_dihedral_bb; 0) ( dna_dihedral_chi; 0) ( dna_dihedral_sugar; 0) ( sugar_bb; 0) ( free_suite; 0) ( free_2HOprime; 0) ( free_side_chain; 0) ( free_base; 0) ( free_res; 0) ( free_dof; 0) ( intermol; 0) ( other_pose; 0) ( special_rot; 0) ( PB_elec; 0) ( cen_env_smooth; 0) ( cbeta_smooth; 0) ( cen_rot_env; 0) ( cen_rot_cbeta; 0) ( env; 0) ( cbeta; 0) ( DFIRE; 0) ( Menv; 0) ( Mcbeta; 0) ( Menv_non_helix; 0) ( Menv_termini; 0) ( Menv_tm_proj; 0) ( Mlipo; 0) ( rg; 0) ( rg_local; 0) ( co; 0) ( hs_pair; 0) ( ss_pair; 0) ( rsigma; 0) ( sheet; 0) ( burial_v2; 0) ( burial; 0) ( abego; 0) ( covalent_labeling; 0) ( covalent_labeling_fa; 0) ( hrf_ms_labeling; 0) ( rnp_env; 0) ( loop_close; 0) ( missing_res; 0) ( mp_env; 0) ( mp_cbeta; 0) ( mp_lipo; 0) ( mp_termini; 0) ( mp_nonhelix; 0) ( mp_tmproj; 0) ( fa_mpenv; 0) ( fa_mpenv_smooth; 0) ( fa_water_to_bilayer; 0) ( mp_res_lipo; 0) ( span_ins; 0) ( mp_span_ang; 0) ( mp_helicality; 0) ( natbias_ss; 0) ( natbias_hs; 0) ( natbias_hh; 0) ( natbias_stwist; 0) ( aa_cmp; 0) ( dock_ens_conf; 0) ( csa; 0) ( dc; 0) ( rdc; 0) ( rdc_segments; 0) ( rdc_rohl; 0) ( nmr_pcs; 0) ( nmr_rdc; 0) ( nmr_pre; 0) ( cen_pair_motifs; 0) ( cen_pair_motif_degree; 0) ( holes; 0) ( holes_decoy; 0) ( holes_resl; 0) ( holes_min; 0) ( holes_min_mean; 0) ( rna_chem_shift; 0) ( rna_chem_map; 0) ( rna_chem_map_lores; 0) ( rna_partition; 0) ( dab_sasa; 0) ( dab_sev; 0) ( sa; 0) ( d2h_sa; 0) ( ProQM; 0) ( ProQ; 0) ( interchain_env; 0) ( interchain_contact; 0) ( chainbreak; 0) ( linear_chainbreak; 0) ( overlap_chainbreak; 0) ( distance_chainbreak; 0) ( dof_constraint; 0) ( branch_conn; 0) ( linear_branch_conn; 0) ( rama_prepro; 0) ( paa_abego3; 0) ( cart_bonded; 0) ( cart_bonded_angle; 0) ( cart_bonded_length; 0) ( cart_bonded_ring; 0) ( cart_bonded_torsion; 0) ( cart_bonded_proper; 0) ( cart_bonded_improper; 0) ( gen_bonded; 0) ( gen_bonded_bond; 0) ( gen_bonded_angle; 0) ( gen_bonded_torsion; 0) ( gen_bonded_improper; 0) ( neigh_vect; 0) ( neigh_count; 0) ( neigh_vect_raw; 0) ( symE_bonus; 0) ( sym_lig; 0) ( mhc_epitope; 0) ( pack_stat; 0) ( rms_energy; 0) ( res_type_constraint; 0) ( res_type_linking_constraint; 0) ( pocket_constraint; 0) ( backbone_stub_constraint; 0) ( backbone_stub_linear_constraint; 0) ( surface; 0) ( p_aa; 0) ( unfolded; 0) ( split_unfolded_two_body; 0) ( fa_atr_ref; 0) ( fa_rep_ref; 0) ( fa_sol_ref; 0) ( fa_elec_ref; 0) ( hbond_ref; 0) ( dslf_fa13_ref; 0) ( fa_intra_atr_ref; 0) ( fa_intra_rep_ref; 0) ( fa_intra_sol_ref; 0) ( pro_close_ref; 0) ( fa_dun_ref; 0) ( fa_dun_dev_ref; 0) ( fa_dun_rot_ref; 0) ( fa_dun_semi_ref; 0) ( rama_ref; 0) ( p_aa_pp_ref; 0) ( omega_ref; 0) ( mm_lj_intra_rep_ref; 0) ( mm_lj_intra_atr_ref; 0) ( mm_twist_ref; 0) ( elec_dens_fast; 0) ( elec_dens_window; 0) ( elec_dens_whole_structure_ca; 0) ( elec_dens_whole_structure_allatom; 0) ( elec_dens_atomwise; 0) ( grid_vdw; 0) ( xtal_ml; 0) ( xtal_rwork; 0) ( xtal_rfree; 0) ( hpatch; 0) ( Menv_smooth; 0) ( wat_desolv; 0) ( ring_close; 0) ( aa_repeat; 0) ( aa_composition; 0) ( aspartimide_penalty; 0) ( hbnet; 0) ( buried_unsatisfied_penalty; 0) ( netcharge; 0) ( voids_penalty; 0) ( dna_env; 0) ( dna_pair; 0) ( dump_trajectory; 0) ( PyRosettaEnergy_first; 0) ( PyRosettaEnergy_462; 0) ( PyRosettaEnergy_463; 0) ( PyRosettaEnergy_464; 0) ( PyRosettaEnergy_465; 0) ( PyRosettaEnergy_466; 0) ( PyRosettaEnergy_467; 0) ( PyRosettaEnergy_468; 0) ( PyRosettaEnergy_469; 0) ( PyRosettaEnergy_470; 0) ( PyRosettaEnergy_last; 0) ( sidechain_neighbors; 0) ( target_clash; 0) ( membrane_span_constraint; 0) ( membrane_span_term_z_constraint; 0) ( aromatic_restraint; 0) ( total_score; 0) ( dummy_score_type; 0) \n"
     ]
    }
   ],
   "source": [
    "print(emap)"
   ]
  },
  {
   "cell_type": "code",
   "execution_count": 49,
   "metadata": {},
   "outputs": [
    {
     "data": {
      "text/plain": [
       "-1.2098840439684349"
      ]
     },
     "execution_count": 49,
     "metadata": {},
     "output_type": "execute_result"
    }
   ],
   "source": [
    "emap[fa_atr]"
   ]
  },
  {
   "cell_type": "code",
   "execution_count": 50,
   "metadata": {},
   "outputs": [
    {
     "data": {
      "text/plain": [
       "0.10835353848860363"
      ]
     },
     "execution_count": 50,
     "metadata": {},
     "output_type": "execute_result"
    }
   ],
   "source": [
    "emap[fa_rep]"
   ]
  },
  {
   "cell_type": "code",
   "execution_count": 51,
   "metadata": {},
   "outputs": [
    {
     "data": {
      "text/plain": [
       "1.5729435146961963"
      ]
     },
     "execution_count": 51,
     "metadata": {},
     "output_type": "execute_result"
    }
   ],
   "source": [
    "emap[fa_sol]"
   ]
  },
  {
   "cell_type": "code",
   "execution_count": 54,
   "metadata": {},
   "outputs": [
    {
     "data": {
      "text/plain": [
       "-1.2672892235180762"
      ]
     },
     "execution_count": 54,
     "metadata": {},
     "output_type": "execute_result"
    }
   ],
   "source": [
    "emap = EMapVector()\n",
    "sfxn.eval_ci_2b(ras.residue(20), ras.residue(24), ras, emap)\n",
    "emap[fa_atr]"
   ]
  },
  {
   "cell_type": "markdown",
   "metadata": {},
   "source": [
    "The PyMOLMover class contains a a method for sending score function information to PyMOL, which will then color the structure based on relative residue energies"
   ]
  },
  {
   "cell_type": "code",
   "execution_count": 58,
   "metadata": {},
   "outputs": [
    {
     "name": "stdout",
     "output_type": "stream",
     "text": [
      "1215.7290785559671\n"
     ]
    }
   ],
   "source": [
    "pymol_mover = PyMOLMover()\n",
    "pymol_mover.apply(ras)\n",
    "print(sfxn(ras))\n",
    "pymol_mover.send_energy(ras)"
   ]
  },
  {
   "cell_type": "code",
   "execution_count": 62,
   "metadata": {},
   "outputs": [],
   "source": [
    "pymol_mover.send_energy(ras, fa_atr)"
   ]
  },
  {
   "cell_type": "code",
   "execution_count": 65,
   "metadata": {},
   "outputs": [],
   "source": [
    "pymol_mover.label_energy(ras, 'fa_atr')"
   ]
  },
  {
   "cell_type": "code",
   "execution_count": 66,
   "metadata": {},
   "outputs": [],
   "source": [
    "pymol_mover.send_hbonds(ras)"
   ]
  },
  {
   "cell_type": "code",
   "execution_count": null,
   "metadata": {},
   "outputs": [],
   "source": []
  }
 ],
 "metadata": {
  "kernelspec": {
   "display_name": "Python 3",
   "language": "python",
   "name": "python3"
  },
  "language_info": {
   "codemirror_mode": {
    "name": "ipython",
    "version": 3
   },
   "file_extension": ".py",
   "mimetype": "text/x-python",
   "name": "python",
   "nbconvert_exporter": "python",
   "pygments_lexer": "ipython3",
   "version": "3.7.0"
  }
 },
 "nbformat": 4,
 "nbformat_minor": 4
}
