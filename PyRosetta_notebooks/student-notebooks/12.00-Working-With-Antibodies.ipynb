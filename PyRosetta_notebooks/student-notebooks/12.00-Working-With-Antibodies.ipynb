{
 "cells": [
  {
   "cell_type": "markdown",
   "metadata": {},
   "source": [
    "Before you turn this problem in, make sure everything runs as expected. First, **restart the kernel** (in the menubar, select Kernel$\\rightarrow$Restart) and then **run all cells** (in the menubar, select Cell$\\rightarrow$Run All).\n",
    "\n",
    "Make sure you fill in any place that says `YOUR CODE HERE` or \"YOUR ANSWER HERE\", as well as your name and collaborators below:"
   ]
  },
  {
   "cell_type": "code",
   "execution_count": null,
   "metadata": {},
   "outputs": [],
   "source": [
    "NAME = \"\"\n",
    "COLLABORATORS = \"\""
   ]
  },
  {
   "cell_type": "markdown",
   "metadata": {},
   "source": [
    "---"
   ]
  },
  {
   "cell_type": "markdown",
   "metadata": {},
   "source": [
    "<!--NOTEBOOK_HEADER-->\n",
    "*This notebook contains material from [PyRosetta](https://RosettaCommons.github.io/PyRosetta.notebooks);\n",
    "content is available [on Github](https://github.com/RosettaCommons/PyRosetta.notebooks.git).*"
   ]
  },
  {
   "cell_type": "markdown",
   "metadata": {},
   "source": [
    "<!--NAVIGATION-->\n",
    "< [Working With Density](http://nbviewer.jupyter.org/github/RosettaCommons/PyRosetta.notebooks/blob/master/notebooks/11.00-Working-With-Density.ipynb) | [Contents](toc.ipynb) | [Index](index.ipynb) | [RosettaAntibody Framework](http://nbviewer.jupyter.org/github/RosettaCommons/PyRosetta.notebooks/blob/master/notebooks/12.01-RosettaAntibody-Framework-and-SimpleMetrics.ipynb) ><p><a href=\"https://colab.research.google.com/github/RosettaCommons/PyRosetta.notebooks/blob/master/notebooks/12.00-Working-With-Antibodies.ipynb\"><img align=\"left\" src=\"https://colab.research.google.com/assets/colab-badge.svg\" alt=\"Open in Colab\" title=\"Open in Google Colaboratory\"></a>"
   ]
  },
  {
   "cell_type": "markdown",
   "metadata": {},
   "source": [
    "# Working With Antibodies\n",
    "Keywords: Antibody, RosettaAntibody, RosettaAntibodyDesign, RAbD, CDR\n"
   ]
  },
  {
   "cell_type": "markdown",
   "metadata": {},
   "source": [
    "## Overview\n",
    "If you are here, you probably understand a thing or two about antibodies.  Lets do a quick review anyway."
   ]
  },
  {
   "cell_type": "code",
   "execution_count": null,
   "metadata": {},
   "outputs": [],
   "source": [
    "from IPython.display import Image\n",
    "Image('./Media/antibody/antibody_structure_overview.png',width='1000')"
   ]
  },
  {
   "cell_type": "markdown",
   "metadata": {},
   "source": [
    "## IgG\n",
    "Here is the full IgG that has two *Fabs* or antibody fragments.  Each Fab has a variable (*Fv*) and constant (*Fc*) region.  In Rosetta, we are mostly concerned with Fv - where the binding region actually resides. The molecule that an antibody binds to is called an **antigen**. "
   ]
  },
  {
   "cell_type": "code",
   "execution_count": null,
   "metadata": {},
   "outputs": [],
   "source": [
    "Image('./Media/antibody/antibody_structure_IgG.png',width='1000')"
   ]
  },
  {
   "cell_type": "markdown",
   "metadata": {},
   "source": [
    "## CDRs\n",
    "An antibody (*Fv*) is made up of 6 Complementarity Determining Regions, or **CDRs**. The H3 CDR is the most variable CDR, but L1, L3, and H2 also take on many different shapes and lengths and in many cases, are just as critical to binding. \n",
    "\n",
    "The specific residues that make up the binding region on abound antibody is called the **paratope**, while the region on the antigen is called the **epitope**."
   ]
  },
  {
   "cell_type": "code",
   "execution_count": null,
   "metadata": {},
   "outputs": [],
   "source": [
    "Image('./Media/antibody/antibody_structure_cdrs.png',width='1000')"
   ]
  },
  {
   "cell_type": "markdown",
   "metadata": {},
   "source": [
    "## Antibody Numbering Schemes\n",
    "\n",
    "So, we've established that antibodies have some defined structural charactoristics.  Awesome.  But how does Rosetta know where the CDRs are?  That is where numbering schemes come into play. \n",
    "\n",
    "Numbering schemes are predefined residue numbers and chains for antibody.  There are many different numbering schemes available in Rosetta - and most protocols will work in any of them. Chothia is one of the most widely used schemes, but relies on insertion codes for their CDRs.  AHo scheme is a newer one that is used primarily for RosettaAntibodyDesign. \n",
    "\n",
    "The input and output numbering scheme of the antibody can be given through a command-line or within specific code, which we will cover in the next tutorial. \n",
    "\n",
    "https://www.rosettacommons.org/docs/latest/application_documentation/antibody/General-Antibody-Options-and-Tips\n",
    "\n",
    "Antibodies can be renumbered from the PDB using PyIgClassify: http://dunbrack2.fccc.edu/PyIgClassify/\n",
    "\n",
    "More information on the AHo Numbering scheme, and comparisons with many numbering schemes, can be found here:\n",
    "https://www.bioc.uzh.ch/plueckthun/antibody/Numbering/index.html\n",
    "\n",
    "### Chains\n",
    "Within Rosetta, it is expected to only have a single light and heavy chain in your antibody as we are dealing primarily with the FAB.  PyIgClassify will do this accordingly, but if you have multiple antibodies in your PDB, you will want to trim it.\n",
    "\n",
    "## CDR Definitions\n",
    "\n",
    "You will find different papers in the literature that define a CDR as starting or ending at different residues, regardless of the numbering scheme.  For example, CDRs were originally defined as starting where variability in the sequence began, but later cdr defintions, like the North definition (from this paper - https://www.ncbi.nlm.nih.gov/pubmed/21035459 ), have the CDRs start at more structurally-important places.  \n",
    "\n",
    "When working with antibodies, it is important to know the numbering scheme of your antibody, and the CDR definitions you wish to use. \n",
    "\n",
    "## Conclusions\n",
    "\n",
    "This should be enough background to get you started using the **RosettaAntibody** framework in the next sections of this workshop.\n",
    "\n"
   ]
  },
  {
   "cell_type": "code",
   "execution_count": null,
   "metadata": {},
   "outputs": [],
   "source": []
  },
  {
   "cell_type": "markdown",
   "metadata": {},
   "source": [
    "**Chapter contributors:**\n",
    "\n",
    "- Jared Adolf-Bryfogle (Scripps; Institute for Protein Innovation)"
   ]
  },
  {
   "cell_type": "markdown",
   "metadata": {},
   "source": [
    "<!--NAVIGATION-->\n",
    "< [Working With Density](http://nbviewer.jupyter.org/github/RosettaCommons/PyRosetta.notebooks/blob/master/notebooks/11.00-Working-With-Density.ipynb) | [Contents](toc.ipynb) | [Index](index.ipynb) | [RosettaAntibody Framework](http://nbviewer.jupyter.org/github/RosettaCommons/PyRosetta.notebooks/blob/master/notebooks/12.01-RosettaAntibody-Framework-and-SimpleMetrics.ipynb) ><p><a href=\"https://colab.research.google.com/github/RosettaCommons/PyRosetta.notebooks/blob/master/notebooks/12.00-Working-With-Antibodies.ipynb\"><img align=\"left\" src=\"https://colab.research.google.com/assets/colab-badge.svg\" alt=\"Open in Colab\" title=\"Open in Google Colaboratory\"></a>"
   ]
  }
 ],
 "metadata": {
  "kernelspec": {
   "display_name": "Python 3",
   "language": "python",
   "name": "python3"
  },
  "language_info": {
   "codemirror_mode": {
    "name": "ipython",
    "version": 3
   },
   "file_extension": ".py",
   "mimetype": "text/x-python",
   "name": "python",
   "nbconvert_exporter": "python",
   "pygments_lexer": "ipython3",
   "version": "3.6.1"
  },
  "toc": {
   "base_numbering": 1,
   "nav_menu": {},
   "number_sections": true,
   "sideBar": true,
   "skip_h1_title": false,
   "title_cell": "Table of Contents",
   "title_sidebar": "Contents",
   "toc_cell": false,
   "toc_position": {},
   "toc_section_display": true,
   "toc_window_display": false
  }
 },
 "nbformat": 4,
 "nbformat_minor": 1
}
