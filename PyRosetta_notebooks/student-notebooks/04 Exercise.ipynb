{
 "cells": [
  {
   "cell_type": "code",
   "execution_count": 1,
   "metadata": {},
   "outputs": [
    {
     "name": "stdout",
     "output_type": "stream",
     "text": [
      "PyRosetta-4 2020 [Rosetta PyRosetta4.Release.python37.linux 2020.25+release.d2d9f90b8cbcacfd7a1f69aefa5de610b100e8a9 2020-06-19T14:33:13] retrieved from: http://www.pyrosetta.org\n",
      "(C) Copyright Rosetta Commons Member Institutions. Created in JHU by Sergey Lyskov and PyRosetta Team.\n",
      "\u001b[0mcore.init: \u001b[0mChecking for fconfig files in pwd and ./rosetta/flags\n",
      "\u001b[0mcore.init: \u001b[0mRosetta version: PyRosetta4.Release.python37.linux r258 2020.25+release.d2d9f90 d2d9f90b8cbcacfd7a1f69aefa5de610b100e8a9 http://www.pyrosetta.org 2020-06-19T14:33:13\n",
      "\u001b[0mcore.init: \u001b[0mcommand: PyRosetta -ex1 -ex2aro -database /home/ning/anaconda3/lib/python3.7/site-packages/pyrosetta-2020.25+release.d2d9f90-py3.7-linux-x86_64.egg/pyrosetta/database\n",
      "\u001b[0mbasic.random.init_random_generator: \u001b[0m'RNG device' seed mode, using '/dev/urandom', seed=2146875027 seed_offset=0 real_seed=2146875027\n",
      "\u001b[0mbasic.random.init_random_generator: \u001b[0mRandomGenerator:init: Normal mode, seed=2146875027 RG_type=mt19937\n"
     ]
    }
   ],
   "source": [
    "import sys\n",
    "from pyrosetta import *\n",
    "from pyrosetta.teaching import *\n",
    "init()"
   ]
  },
  {
   "cell_type": "code",
   "execution_count": 2,
   "metadata": {},
   "outputs": [
    {
     "name": "stdout",
     "output_type": "stream",
     "text": [
      "\u001b[0mcore.chemical.GlobalResidueTypeSet: \u001b[0mFinished initializing fa_standard residue type set.  Created 981 residue types\n",
      "\u001b[0mcore.chemical.GlobalResidueTypeSet: \u001b[0mTotal time to initialize 0.909915 seconds.\n",
      "180.0 180.0 180.0 180.0 180.0 180.0 180.0 180.0 180.0 180.0 180.0 180.0 180.0 180.0 180.0 180.0 180.0 180.0 180.0 180.0 "
     ]
    }
   ],
   "source": [
    "polyA = pose_from_sequence('A' * 10)\n",
    "for i in range(1,11):\n",
    "    print(polyA.phi(i), polyA.psi(i), end = \" \")"
   ]
  },
  {
   "cell_type": "code",
   "execution_count": 4,
   "metadata": {},
   "outputs": [],
   "source": [
    "polyA.pdb_info().name('polyA')"
   ]
  },
  {
   "cell_type": "code",
   "execution_count": 10,
   "metadata": {},
   "outputs": [],
   "source": [
    "pmm = PyMOLMover()\n",
    "pmm.keep_history(True)\n",
    "pmm.apply(polyA)"
   ]
  },
  {
   "cell_type": "markdown",
   "metadata": {},
   "source": [
    "# Building a Basic **de Nova** Folding Algorithm\n",
    "# Monte Carlo algorithm"
   ]
  },
  {
   "cell_type": "code",
   "execution_count": 7,
   "metadata": {},
   "outputs": [],
   "source": [
    "# Step 1: Random Move\n",
    "import math\n",
    "import random\n",
    "def randTrial(your_pose):\n",
    "    rand_num = random.randint(2, your_pose.total_residue())\n",
    "    new_pose = Pose()\n",
    "    new_pose.assign(your_pose)\n",
    "    orig_phi = your_pose.phi(rand_num)\n",
    "    orig_psi = your_pose.psi(rand_num)\n",
    "    new_pose.set_phi(rand_num, random.gauss(orig_phi, 25))\n",
    "    new_pose.set_psi(rand_num, random.gauss(orig_psi, 25))\n",
    "    return new_pose"
   ]
  },
  {
   "cell_type": "code",
   "execution_count": 17,
   "metadata": {},
   "outputs": [
    {
     "name": "stdout",
     "output_type": "stream",
     "text": [
      "\u001b[0mcore.scoring.ScoreFunctionFactory: \u001b[0mSCOREFUNCTION: \u001b[32mref2015\u001b[0m\n",
      "\u001b[0mcore.scoring.etable: \u001b[0mStarting energy table calculation\n",
      "\u001b[0mcore.scoring.etable: \u001b[0msmooth_etable: changing atr/rep split to bottom of energy well\n",
      "\u001b[0mcore.scoring.etable: \u001b[0msmooth_etable: spline smoothing lj etables (maxdis = 6)\n",
      "\u001b[0mcore.scoring.etable: \u001b[0msmooth_etable: spline smoothing solvation etables (max_dis = 6)\n",
      "\u001b[0mcore.scoring.etable: \u001b[0mFinished calculating energy tables.\n",
      "\u001b[0mbasic.io.database: \u001b[0mDatabase file opened: scoring/score_functions/hbonds/ref2015_params/HBPoly1D.csv\n",
      "\u001b[0mbasic.io.database: \u001b[0mDatabase file opened: scoring/score_functions/hbonds/ref2015_params/HBFadeIntervals.csv\n",
      "\u001b[0mbasic.io.database: \u001b[0mDatabase file opened: scoring/score_functions/hbonds/ref2015_params/HBEval.csv\n",
      "\u001b[0mbasic.io.database: \u001b[0mDatabase file opened: scoring/score_functions/hbonds/ref2015_params/DonStrength.csv\n",
      "\u001b[0mbasic.io.database: \u001b[0mDatabase file opened: scoring/score_functions/hbonds/ref2015_params/AccStrength.csv\n",
      "\u001b[0mbasic.io.database: \u001b[0mDatabase file opened: scoring/score_functions/rama/fd/all.ramaProb\n",
      "\u001b[0mbasic.io.database: \u001b[0mDatabase file opened: scoring/score_functions/rama/fd/prepro.ramaProb\n",
      "\u001b[0mbasic.io.database: \u001b[0mDatabase file opened: scoring/score_functions/omega/omega_ppdep.all.txt\n",
      "\u001b[0mbasic.io.database: \u001b[0mDatabase file opened: scoring/score_functions/omega/omega_ppdep.gly.txt\n",
      "\u001b[0mbasic.io.database: \u001b[0mDatabase file opened: scoring/score_functions/omega/omega_ppdep.pro.txt\n",
      "\u001b[0mbasic.io.database: \u001b[0mDatabase file opened: scoring/score_functions/omega/omega_ppdep.valile.txt\n",
      "\u001b[0mbasic.io.database: \u001b[0mDatabase file opened: scoring/score_functions/P_AA_pp/P_AA\n",
      "\u001b[0mbasic.io.database: \u001b[0mDatabase file opened: scoring/score_functions/P_AA_pp/P_AA_n\n",
      "\u001b[0mcore.scoring.P_AA: \u001b[0mshapovalov_lib::shap_p_aa_pp_smooth_level of 1( aka low_smooth ) got activated.\n",
      "\u001b[0mbasic.io.database: \u001b[0mDatabase file opened: scoring/score_functions/P_AA_pp/shapovalov/10deg/kappa131/a20.prop\n"
     ]
    }
   ],
   "source": [
    "# Step 2: Scoring Move\n",
    "sfxn = get_fa_scorefxn()\n",
    "def score(your_pose):\n",
    "    return sfxn.score(your_pose)"
   ]
  },
  {
   "cell_type": "markdown",
   "metadata": {},
   "source": [
    "\\begin{equation}\n",
    "P = exp(-\\frac{$\\delta$G}{kT})\n",
    "\\end{equation}"
   ]
  },
  {
   "cell_type": "code",
   "execution_count": 34,
   "metadata": {},
   "outputs": [],
   "source": [
    "# Step 3: Accepting/Rejecting Move\n",
    "def decision(before_pose, after_pose, kT = 1):\n",
    "    after_pose = randTrial(before_pose)\n",
    "    E = score(after_pose) - score(before_pose)\n",
    "    if E < 0:\n",
    "        return after_pose\n",
    "    elif random.uniform(0,1) >= math.exp(-E/kT):\n",
    "        #random.uniform(a,b) return a random float number between [a,b], include both boundary\n",
    "        return before_pose\n",
    "    return after_pose\n",
    "    "
   ]
  },
  {
   "cell_type": "code",
   "execution_count": 31,
   "metadata": {},
   "outputs": [],
   "source": [
    "# Step 4: Execution\n",
    "def basic_folding(your_pose, number_iteration=100):\n",
    "    lowest_pose = Pose()\n",
    "    lowest_pose.assign(your_pose)\n",
    "    for i in range(number_iteration):\n",
    "        new_pose = decision(lowest_pose, randTrial(lowest_pose))\n",
    "        if score(new_pose) < score(lowest_pose):\n",
    "            lowest_pose.assign(new_pose)\n",
    "        print('Iteration: {}'.format(i+1))\n",
    "        print('Current score: {:1.3f}'.format(score(lowest_pose)))\n",
    "    return lowest_pose"
   ]
  },
  {
   "cell_type": "code",
   "execution_count": 32,
   "metadata": {},
   "outputs": [
    {
     "name": "stdout",
     "output_type": "stream",
     "text": [
      "Iteration: 1\n",
      "Current score: 49.680\n",
      "Iteration: 2\n",
      "Current score: 49.680\n",
      "Iteration: 3\n",
      "Current score: 46.522\n",
      "Iteration: 4\n",
      "Current score: 46.522\n",
      "Iteration: 5\n",
      "Current score: 46.522\n",
      "Iteration: 6\n",
      "Current score: 46.522\n",
      "Iteration: 7\n",
      "Current score: 46.522\n",
      "Iteration: 8\n",
      "Current score: 32.953\n",
      "Iteration: 9\n",
      "Current score: 32.953\n",
      "Iteration: 10\n",
      "Current score: 31.174\n",
      "Iteration: 11\n",
      "Current score: 29.008\n",
      "Iteration: 12\n",
      "Current score: 29.008\n",
      "Iteration: 13\n",
      "Current score: 29.008\n",
      "Iteration: 14\n",
      "Current score: 29.008\n",
      "Iteration: 15\n",
      "Current score: 29.008\n",
      "Iteration: 16\n",
      "Current score: 29.008\n",
      "Iteration: 17\n",
      "Current score: 28.512\n",
      "Iteration: 18\n",
      "Current score: 28.414\n",
      "Iteration: 19\n",
      "Current score: 26.282\n",
      "Iteration: 20\n",
      "Current score: 26.282\n",
      "Iteration: 21\n",
      "Current score: 26.282\n",
      "Iteration: 22\n",
      "Current score: 26.282\n",
      "Iteration: 23\n",
      "Current score: 25.517\n",
      "Iteration: 24\n",
      "Current score: 25.517\n",
      "Iteration: 25\n",
      "Current score: 25.517\n",
      "Iteration: 26\n",
      "Current score: 25.517\n",
      "Iteration: 27\n",
      "Current score: 25.517\n",
      "Iteration: 28\n",
      "Current score: 25.517\n",
      "Iteration: 29\n",
      "Current score: 21.886\n",
      "Iteration: 30\n",
      "Current score: 21.886\n",
      "Iteration: 31\n",
      "Current score: 21.886\n",
      "Iteration: 32\n",
      "Current score: 21.886\n",
      "Iteration: 33\n",
      "Current score: 21.886\n",
      "Iteration: 34\n",
      "Current score: 21.886\n",
      "Iteration: 35\n",
      "Current score: 21.886\n",
      "Iteration: 36\n",
      "Current score: 21.886\n",
      "Iteration: 37\n",
      "Current score: 21.886\n",
      "Iteration: 38\n",
      "Current score: 21.886\n",
      "Iteration: 39\n",
      "Current score: 17.353\n",
      "Iteration: 40\n",
      "Current score: 17.353\n",
      "Iteration: 41\n",
      "Current score: 17.353\n",
      "Iteration: 42\n",
      "Current score: 17.353\n",
      "Iteration: 43\n",
      "Current score: 17.353\n",
      "Iteration: 44\n",
      "Current score: 17.353\n",
      "Iteration: 45\n",
      "Current score: 17.331\n",
      "Iteration: 46\n",
      "Current score: 17.331\n",
      "Iteration: 47\n",
      "Current score: 17.331\n",
      "Iteration: 48\n",
      "Current score: 16.176\n",
      "Iteration: 49\n",
      "Current score: 14.694\n",
      "Iteration: 50\n",
      "Current score: 14.694\n",
      "Iteration: 51\n",
      "Current score: 14.694\n",
      "Iteration: 52\n",
      "Current score: 14.694\n",
      "Iteration: 53\n",
      "Current score: 14.694\n",
      "Iteration: 54\n",
      "Current score: 14.694\n",
      "Iteration: 55\n",
      "Current score: 14.694\n",
      "Iteration: 56\n",
      "Current score: 14.694\n",
      "Iteration: 57\n",
      "Current score: 14.694\n",
      "Iteration: 58\n",
      "Current score: 14.694\n",
      "Iteration: 59\n",
      "Current score: 14.694\n",
      "Iteration: 60\n",
      "Current score: 14.694\n",
      "Iteration: 61\n",
      "Current score: 14.694\n",
      "Iteration: 62\n",
      "Current score: 14.694\n",
      "Iteration: 63\n",
      "Current score: 14.694\n",
      "Iteration: 64\n",
      "Current score: 14.694\n",
      "Iteration: 65\n",
      "Current score: 14.694\n",
      "Iteration: 66\n",
      "Current score: 14.694\n",
      "Iteration: 67\n",
      "Current score: 14.694\n",
      "Iteration: 68\n",
      "Current score: 14.694\n",
      "Iteration: 69\n",
      "Current score: 14.694\n",
      "Iteration: 70\n",
      "Current score: 14.694\n",
      "Iteration: 71\n",
      "Current score: 14.694\n",
      "Iteration: 72\n",
      "Current score: 14.694\n",
      "Iteration: 73\n",
      "Current score: 14.466\n",
      "Iteration: 74\n",
      "Current score: 12.826\n",
      "Iteration: 75\n",
      "Current score: 12.826\n",
      "Iteration: 76\n",
      "Current score: 12.709\n",
      "Iteration: 77\n",
      "Current score: 11.048\n",
      "Iteration: 78\n",
      "Current score: 11.048\n",
      "Iteration: 79\n",
      "Current score: 10.996\n",
      "Iteration: 80\n",
      "Current score: 10.996\n",
      "Iteration: 81\n",
      "Current score: 10.996\n",
      "Iteration: 82\n",
      "Current score: 10.996\n",
      "Iteration: 83\n",
      "Current score: 10.724\n",
      "Iteration: 84\n",
      "Current score: 10.724\n",
      "Iteration: 85\n",
      "Current score: 10.724\n",
      "Iteration: 86\n",
      "Current score: 10.724\n",
      "Iteration: 87\n",
      "Current score: 10.724\n",
      "Iteration: 88\n",
      "Current score: 10.326\n",
      "Iteration: 89\n",
      "Current score: 10.326\n",
      "Iteration: 90\n",
      "Current score: 10.326\n",
      "Iteration: 91\n",
      "Current score: 10.326\n",
      "Iteration: 92\n",
      "Current score: 10.326\n",
      "Iteration: 93\n",
      "Current score: 10.022\n",
      "Iteration: 94\n",
      "Current score: 10.022\n",
      "Iteration: 95\n",
      "Current score: 10.022\n",
      "Iteration: 96\n",
      "Current score: 8.956\n",
      "Iteration: 97\n",
      "Current score: 8.834\n",
      "Iteration: 98\n",
      "Current score: 8.834\n",
      "Iteration: 99\n",
      "Current score: 7.941\n",
      "Iteration: 100\n",
      "Current score: 7.941\n"
     ]
    }
   ],
   "source": [
    "folding_polyA = basic_folding(polyA)"
   ]
  },
  {
   "cell_type": "code",
   "execution_count": 33,
   "metadata": {},
   "outputs": [],
   "source": [
    "pmm.apply(folding_polyA)"
   ]
  },
  {
   "cell_type": "markdown",
   "metadata": {},
   "source": [
    "# Low-Res Scoring and Fragments"
   ]
  },
  {
   "cell_type": "code",
   "execution_count": 35,
   "metadata": {},
   "outputs": [
    {
     "name": "stdout",
     "output_type": "stream",
     "text": [
      "\u001b[0mcore.import_pose.import_pose: \u001b[0mFile 'inputs/6Q21_A.pdb' automatically determined to be of type PDB\n",
      "\u001b[0mcore.scoring.ScoreFunctionFactory: \u001b[0mSCOREFUNCTION: \u001b[32mref2015\u001b[0m\n"
     ]
    },
    {
     "data": {
      "text/plain": [
       "1215.7290785559671"
      ]
     },
     "execution_count": 35,
     "metadata": {},
     "output_type": "execute_result"
    }
   ],
   "source": [
    "pose = pyrosetta.pose_from_pdb('inputs/6Q21_A.pdb')\n",
    "sfxn = pyrosetta.get_score_function()\n",
    "sfxn(pose)"
   ]
  },
  {
   "cell_type": "code",
   "execution_count": 37,
   "metadata": {},
   "outputs": [
    {
     "name": "stdout",
     "output_type": "stream",
     "text": [
      "Residue 5: LYS (LYS, K):\n",
      "Base: LYS\n",
      " Properties: POLYMER PROTEIN CANONICAL_AA POLAR CHARGED POSITIVE_CHARGE METALBINDING SIDECHAIN_AMINE ALPHA_AA L_AA\n",
      " Variant types:\n",
      " Main-chain atoms:  N    CA   C  \n",
      " Backbone atoms:    N    CA   C    O    H    HA \n",
      " Side-chain atoms:  CB   CG   CD   CE   NZ  1HB  2HB  1HG  2HG  1HD  2HD  1HE  2HE  1HZ  2HZ  3HZ \n",
      "Atom Coordinates:\n",
      "   N  : 20.315, 43.835, 78.015\n",
      "   CA : 20.418, 42.863, 79.118\n",
      "   C  : 19.697, 43.46, 80.329\n",
      "   O  : 20.096, 44.486, 80.897\n",
      "   CB : 21.858, 42.487, 79.491\n",
      "   CG : 22.791, 42.176, 78.316\n",
      "   CD : 22.406, 40.943, 77.485\n",
      "   CE : 23.009, 40.932, 76.075\n",
      "   NZ : 22.748, 42.169, 75.307\n",
      "   H  : 21.0493, 44.5172, 77.8902\n",
      "   HA : 19.9193, 41.9417, 78.815\n",
      "  1HB : 22.3125, 43.3019, 80.0551\n",
      "  2HB : 21.8492, 41.6078, 80.1356\n",
      "  1HG : 22.8124, 43.0262, 77.6332\n",
      "  2HG : 23.8008, 42.0064, 78.6884\n",
      "  1HD : 22.7418, 40.0399, 77.9965\n",
      "  2HD : 21.3219, 40.8985, 77.3807\n",
      "  1HE : 24.088, 40.801, 76.1421\n",
      "  2HE : 22.5982, 40.0953, 75.5101\n",
      "  1HZ : 23.1708, 42.0938, 74.3926\n",
      "  2HZ : 21.751, 42.2999, 75.2069\n",
      "  3HZ : 23.1434, 42.9592, 75.7961\n",
      "Mirrored relative to coordinates in ResidueType: FALSE\n",
      "\n"
     ]
    }
   ],
   "source": [
    "print(pose.residue(5))\n",
    "pmm.apply(pose)"
   ]
  },
  {
   "cell_type": "markdown",
   "metadata": {},
   "source": [
    "## SwitchResidueTypeSetMover"
   ]
  },
  {
   "cell_type": "code",
   "execution_count": 38,
   "metadata": {},
   "outputs": [
    {
     "name": "stdout",
     "output_type": "stream",
     "text": [
      "\u001b[0mcore.chemical.GlobalResidueTypeSet: \u001b[0mFinished initializing centroid residue type set.  Created 69 residue types\n",
      "\u001b[0mcore.chemical.GlobalResidueTypeSet: \u001b[0mTotal time to initialize 0.038298 seconds.\n",
      "Residue 5: LYS (LYS, K):\n",
      "Base: LYS\n",
      " Properties: POLYMER PROTEIN CANONICAL_AA POLAR CHARGED POSITIVE_CHARGE SIDECHAIN_AMINE ALPHA_AA L_AA\n",
      " Variant types:\n",
      " Main-chain atoms:  N    CA   C  \n",
      " Backbone atoms:    N    CA   C    O    H  \n",
      " Side-chain atoms:  CB   CEN\n",
      "Atom Coordinates:\n",
      "   N  : 20.315, 43.835, 78.015\n",
      "   CA : 20.418, 42.863, 79.118\n",
      "   C  : 19.697, 43.46, 80.329\n",
      "   O  : 20.096, 44.486, 80.897\n",
      "   CB : 21.8754, 42.543, 79.454\n",
      "   CEN: 23.4957, 41.1851, 79.3707\n",
      "   H  : 21.0493, 44.5172, 77.8902\n",
      "Mirrored relative to coordinates in ResidueType: FALSE\n",
      "\n"
     ]
    }
   ],
   "source": [
    "switch = SwitchResidueTypeSetMover('centroid')\n",
    "switch.apply(pose)\n",
    "print(pose.residue(5))\n",
    "pmm.apply(pose)"
   ]
  },
  {
   "cell_type": "code",
   "execution_count": 39,
   "metadata": {},
   "outputs": [
    {
     "name": "stdout",
     "output_type": "stream",
     "text": [
      "\u001b[0mbasic.io.database: \u001b[0mDatabase file opened: scoring/score_functions/EnvPairPotential/env_log.txt\n",
      "\u001b[0mbasic.io.database: \u001b[0mDatabase file opened: scoring/score_functions/EnvPairPotential/cbeta_den.txt\n",
      "\u001b[0mbasic.io.database: \u001b[0mDatabase file opened: scoring/score_functions/EnvPairPotential/pair_log.txt\n",
      "\u001b[0mbasic.io.database: \u001b[0mDatabase file opened: scoring/score_functions/EnvPairPotential/cenpack_log.txt\n",
      "\u001b[0mbasic.io.database: \u001b[0mDatabase file opened: scoring/score_functions/SecondaryStructurePotential/phi.theta.36.HS.resmooth\n",
      "\u001b[0mbasic.io.database: \u001b[0mDatabase file opened: scoring/score_functions/SecondaryStructurePotential/phi.theta.36.SS.resmooth\n"
     ]
    },
    {
     "data": {
      "text/plain": [
       "-4.509358254597608"
      ]
     },
     "execution_count": 39,
     "metadata": {},
     "output_type": "execute_result"
    }
   ],
   "source": [
    "cen_fxn = pyrosetta.create_score_function('score3')\n",
    "cen_fxn(pose)"
   ]
  },
  {
   "cell_type": "code",
   "execution_count": 40,
   "metadata": {},
   "outputs": [
    {
     "name": "stdout",
     "output_type": "stream",
     "text": [
      "Residue 5: LYS (LYS, K):\n",
      "Base: LYS\n",
      " Properties: POLYMER PROTEIN CANONICAL_AA POLAR CHARGED POSITIVE_CHARGE METALBINDING SIDECHAIN_AMINE ALPHA_AA L_AA\n",
      " Variant types:\n",
      " Main-chain atoms:  N    CA   C  \n",
      " Backbone atoms:    N    CA   C    O    H    HA \n",
      " Side-chain atoms:  CB   CG   CD   CE   NZ  1HB  2HB  1HG  2HG  1HD  2HD  1HE  2HE  1HZ  2HZ  3HZ \n",
      "Atom Coordinates:\n",
      "   N  : 20.315, 43.835, 78.015\n",
      "   CA : 20.418, 42.863, 79.118\n",
      "   C  : 19.697, 43.46, 80.329\n",
      "   O  : 20.096, 44.486, 80.897\n",
      "   CB : 21.8754, 42.5429, 79.4539\n",
      "   CG : 22.8944, 43.244, 78.5655\n",
      "   CD : 22.2113, 44.1202, 77.5262\n",
      "   CE : 20.6967, 44.0574, 77.6573\n",
      "   NZ : 20.2706, 43.1587, 78.7642\n",
      "   H  : 21.0493, 44.5172, 77.8902\n",
      "   HA : 19.9306, 41.9373, 78.8101\n",
      "  1HB : 22.0814, 42.8255, 80.4867\n",
      "  2HB : 22.0409, 41.4686, 79.3693\n",
      "  1HG : 23.5468, 43.8654, 79.1801\n",
      "  2HG : 23.5056, 42.4999, 78.0558\n",
      "  1HD : 22.5361, 45.154, 77.6512\n",
      "  2HD : 22.4937, 43.7874, 76.5274\n",
      "  1HE : 20.3065, 45.0564, 77.8461\n",
      "  2HE : 20.2655, 43.6934, 76.7248\n",
      "  1HZ : 19.2619, 43.1443, 78.8176\n",
      "  2HZ : 20.6116, 42.2236, 78.5898\n",
      "  3HZ : 20.6485, 43.497, 79.6375\n",
      "Mirrored relative to coordinates in ResidueType: FALSE\n",
      "\n"
     ]
    }
   ],
   "source": [
    "fa_switch = SwitchResidueTypeSetMover('fa_standard')\n",
    "fa_switch.apply(pose)\n",
    "print(pose.residue(5))\n",
    "pmm.apply(pose)"
   ]
  },
  {
   "cell_type": "markdown",
   "metadata": {},
   "source": [
    "## Note about Movers\n",
    "Not counting the PyMOLMover, which is a special case, SwitchResidueTypeSetMover is the first example we have seen of a Mover class in PyRosetta. Every Mover object in PyRosetta has been designed to apply specific and complex changes (or “moves”) to a pose. Every Mover must be “constructed” and have any options set before being applied to a pose with the apply() method. SwitchResidueTypeSetMover has a relatively simple construction with only the single option \"centroid\". (Some Movers, as we shall see, require no options and are programmed to operate with default values)."
   ]
  },
  {
   "cell_type": "code",
   "execution_count": null,
   "metadata": {},
   "outputs": [],
   "source": []
  }
 ],
 "metadata": {
  "kernelspec": {
   "display_name": "Python 3",
   "language": "python",
   "name": "python3"
  },
  "language_info": {
   "codemirror_mode": {
    "name": "ipython",
    "version": 3
   },
   "file_extension": ".py",
   "mimetype": "text/x-python",
   "name": "python",
   "nbconvert_exporter": "python",
   "pygments_lexer": "ipython3",
   "version": "3.7.0"
  }
 },
 "nbformat": 4,
 "nbformat_minor": 4
}
