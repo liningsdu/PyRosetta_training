{
 "cells": [
  {
   "cell_type": "markdown",
   "metadata": {},
   "source": [
    "# Loop Modeling\n",
    "\n",
    "Loop modeling is an important step in building homology models, designing enzymes, or docking with flexible loops.\n",
    "\n",
    "### Suggested Readings\n",
    "\n",
    "* A. Canutescu & R. L. Dunbrack, “Cyclic coordinate descent: A robotics algorithm for protein loop closure,” Protein Sci. 12, 963-972 (2003).\n",
    "\n",
    "* Wang, P. Bradley & D. Baker, “Protein-protein docking with backbone flexibility,” J. Mol. Biol. 373, 503-519 (2007).\n",
    "\n",
    "* J. Mandell,  E. A. Coutsias & T. Kortemme, “Sub-angstrom accuracy in protein loop reconstruction by robotics-inspired conformational sampling,” Nature Meth. 6, 551-552 (2009)."
   ]
  },
  {
   "cell_type": "code",
   "execution_count": 3,
   "metadata": {},
   "outputs": [
    {
     "name": "stdout",
     "output_type": "stream",
     "text": [
      "PyRosetta-4 2020 [Rosetta PyRosetta4.Release.python37.mac 2020.23+release.0d6f90a8cb9fa0567ca76bb71ee93bfe73340c70 2020-06-04T19:12:24] retrieved from: http://www.pyrosetta.org\n",
      "(C) Copyright Rosetta Commons Member Institutions. Created in JHU by Sergey Lyskov and PyRosetta Team.\n",
      "\u001b[0mcore.init: \u001b[0mChecking for fconfig files in pwd and ./rosetta/flags\n",
      "\u001b[0mcore.init: \u001b[0mRosetta version: PyRosetta4.Release.python37.mac r257 2020.23+release.0d6f90a8cb9 0d6f90a8cb9fa0567ca76bb71ee93bfe73340c70 http://www.pyrosetta.org 2020-06-04T19:12:24\n",
      "\u001b[0mcore.init: \u001b[0mcommand: PyRosetta -ex1 -ex2aro -database /Users/roya4/opt/anaconda3/lib/python3.7/site-packages/pyrosetta-2020.23+release.0d6f90a8cb9-py3.7-macosx-10.9-x86_64.egg/pyrosetta/database\n",
      "\u001b[0mbasic.random.init_random_generator: \u001b[0m'RNG device' seed mode, using '/dev/urandom', seed=-749587956 seed_offset=0 real_seed=-749587956\n",
      "\u001b[0mbasic.random.init_random_generator: \u001b[0mRandomGenerator:init: Normal mode, seed=-749587956 RG_type=mt19937\n"
     ]
    }
   ],
   "source": [
    "# Notebook setup\n",
    "import sys\n",
    "from pyrosetta import *\n",
    "from pyrosetta.teaching import *\n",
    "init()"
   ]
  },
  {
   "cell_type": "markdown",
   "metadata": {},
   "source": [
    "## Fold Tree\n",
    "\n",
    "Because we typically want to isolate the conformational changes to the loop region, we need a framework to hold the rest of the protein together. This is accomplished — as was the case with protein-protein docking — with a fold tree, which is a graph that dictates the propagation of conformational changes throughout the Pose.\n",
    "\n",
    "For the following exercises, you can find the working PDB, `test_in.pdb`, and a 3mer fragment file, `test_in.frag3` in the `inputs` folder."
   ]
  },
  {
   "cell_type": "markdown",
   "metadata": {},
   "source": [
    "**Make sure you are in the directory with the pdb files:**"
   ]
  },
  {
   "cell_type": "code",
   "execution_count": 4,
   "metadata": {},
   "outputs": [
    {
     "name": "stdout",
     "output_type": "stream",
     "text": [
      "\u001b[0mcore.chemical.GlobalResidueTypeSet: \u001b[0mFinished initializing fa_standard residue type set.  Created 980 residue types\n",
      "\u001b[0mcore.chemical.GlobalResidueTypeSet: \u001b[0mTotal time to initialize 1.32897 seconds.\n",
      "\u001b[0mcore.import_pose.import_pose: \u001b[0mFile '../student-notebooks/inputs/test_in.pdb' automatically determined to be of type PDB\n"
     ]
    }
   ],
   "source": [
    "pose = pyrosetta.pose_from_file(\"../student-notebooks/inputs/test_in.pdb\")"
   ]
  },
  {
   "cell_type": "markdown",
   "metadata": {},
   "source": [
    "Load the `test_in.pdb` structure (116 residues).\n",
    "```\n",
    "pose = pyrosetta.pose_from_file(\"inputs/test_in.pdb\")\n",
    "```"
   ]
  },
  {
   "cell_type": "markdown",
   "metadata": {},
   "source": [
    "We want to operate on the first loop, residues 15–24. For the fold tree, we place the jump anchors two residues outside of the loop range, i.e., residues 13–26. In loop modeling, the jump points are set at i-2 and j+2, where i and j are the beginning and end residues of the loop, respectively."
   ]
  },
  {
   "cell_type": "code",
   "execution_count": null,
   "metadata": {},
   "outputs": [],
   "source": [
    "from IPython.display import Image\n",
    "Image('./Media/fold-tree1.png',width='700')"
   ]
  },
  {
   "cell_type": "markdown",
   "metadata": {},
   "source": [
    "That is, we want a cut between residues 19 and 20, to allow motions in the loop that do not propagate through the rest of the protein. To tie the pieces together, we use a jump between residues 13 and 26. These residues will stay connected to each other.\n",
    "\n",
    "To make such a tree in PyRosetta, first we create a `FoldTree` object:\n",
    "\n",
    "```\n",
    "ft = FoldTree()\n",
    "```"
   ]
  },
  {
   "cell_type": "code",
   "execution_count": 5,
   "metadata": {},
   "outputs": [],
   "source": [
    "ft = FoldTree()"
   ]
  },
  {
   "cell_type": "markdown",
   "metadata": {},
   "source": [
    "__Be careful that you don't re-run the same cell multiple times as you will keep adding these pieces to the FoldTree, which will mess it up__\n",
    "\n",
    "Then we add the \"edges” and the jump. Both `EDGE`s and `Jump`s are entered using the `FoldTree`’s `add_edge(start, end, code)` command, with peptide edges coded with a “-1” and jumps enumerated with the positive integers. (The first jump is coded “1”, the second “2”, etc.) The first edge is from residues 1 to 13:\n",
    "\n",
    "```\n",
    "ft.add_edge(1, 13, -1)\n",
    "```"
   ]
  },
  {
   "cell_type": "code",
   "execution_count": 6,
   "metadata": {},
   "outputs": [],
   "source": [
    "ft.add_edge(1, 13, -1)"
   ]
  },
  {
   "cell_type": "markdown",
   "metadata": {},
   "source": [
    "Then the second is from 13 to 19. __An `EDGE` must always start from a residue that has already been defined in another `EDGE`__, thus we use 13 here and not 14. (The one exception is the first edge, which starts from the graph’s “root”).\n",
    "\n",
    "```\n",
    "ft.add_edge(13, 19, -1)\n",
    "```"
   ]
  },
  {
   "cell_type": "code",
   "execution_count": 7,
   "metadata": {},
   "outputs": [],
   "source": [
    "ft.add_edge(13, 19, -1)"
   ]
  },
  {
   "cell_type": "markdown",
   "metadata": {},
   "source": [
    "Next, the `Jump`, which is specified with the integer code 1, tells Rosetta that this is a rigid-body connection, not a peptide `EDGE`:\n",
    "\n",
    "```\n",
    "ft.add_edge(13, 26, 1)\n",
    "```"
   ]
  },
  {
   "cell_type": "code",
   "execution_count": 8,
   "metadata": {},
   "outputs": [],
   "source": [
    "ft.add_edge(13, 26, 1)"
   ]
  },
  {
   "cell_type": "markdown",
   "metadata": {},
   "source": [
    "Finally, we add the last two `EDGE`s, both starting from 26, which is the residue that has been previously defined in the tree:\n",
    "\n",
    "```\n",
    "ft.add_edge(26, 20, -1)\n",
    "ft.add_edge(26, 116, -1)\n",
    "```"
   ]
  },
  {
   "cell_type": "code",
   "execution_count": 9,
   "metadata": {},
   "outputs": [],
   "source": [
    "ft.add_edge(26, 20, -1)\n",
    "ft.add_edge(26, 116, -1)"
   ]
  },
  {
   "cell_type": "markdown",
   "metadata": {},
   "source": [
    "Print the fold tree and check that this tree is valid:\n",
    "\n",
    "```\n",
    "print(ft)\n",
    "ft.check_fold_tree()\n",
    "```\n",
    "\n",
    "The latter command will return `False` if there are any invalid connections, disconnected parts, or undefined residues."
   ]
  },
  {
   "cell_type": "code",
   "execution_count": 10,
   "metadata": {},
   "outputs": [
    {
     "name": "stdout",
     "output_type": "stream",
     "text": [
      "FOLD_TREE  EDGE 1 13 -1  EDGE 13 19 -1  EDGE 13 26 1  EDGE 26 20 -1  EDGE 26 116 -1 \n"
     ]
    },
    {
     "data": {
      "text/plain": [
       "True"
      ]
     },
     "execution_count": 10,
     "metadata": {},
     "output_type": "execute_result"
    }
   ],
   "source": [
    "print(ft)\n",
    "ft.check_fold_tree()"
   ]
  },
  {
   "cell_type": "markdown",
   "metadata": {},
   "source": [
    "Finally, we attach this fold tree to the pose, overwriting its default fold tree. Print the `Pose`'s `FoldTree` to confirm you changed it:\n",
    "\n",
    "```\n",
    "print(pose.fold_tree())\n",
    "pose.fold_tree(ft)\n",
    "print(pose.fold_tree())\n",
    "```"
   ]
  },
  {
   "cell_type": "code",
   "execution_count": 11,
   "metadata": {},
   "outputs": [
    {
     "name": "stdout",
     "output_type": "stream",
     "text": [
      "FOLD_TREE  EDGE 1 116 -1 \n",
      "FOLD_TREE  EDGE 1 13 -1  EDGE 13 19 -1  EDGE 13 26 1  EDGE 26 20 -1  EDGE 26 116 -1 \n"
     ]
    }
   ],
   "source": [
    "print(pose.fold_tree())\n",
    "pose.fold_tree(ft)\n",
    "print(pose.fold_tree())"
   ]
  },
  {
   "cell_type": "markdown",
   "metadata": {},
   "source": [
    "## Questions"
   ]
  },
  {
   "cell_type": "markdown",
   "metadata": {},
   "source": [
    "1. **Optional PyMOL Exercise:** Test out your fold tree. Do `pose.set_phi(res, 180)` for res values of 10, 13, 16, 23, 26 and 29. View each in PyMOL with the `PyMOLMover`.\n",
    "\n",
    "```\n",
    "pose.assign(start_pose)\n",
    "pmm = PyMOLMover()  # unique port number here, if needed\n",
    "pmm.keep_history(True)\n",
    "pmm.apply(pose)\n",
    "for res in (10, 13, 16, 23, 26, 29):\n",
    "    pose.set_phi(res, 180)\n",
    "pmm.apply(pose)\n",
    "```"
   ]
  },
  {
   "cell_type": "code",
   "execution_count": null,
   "metadata": {},
   "outputs": [],
   "source": []
  },
  {
   "cell_type": "markdown",
   "metadata": {},
   "source": [
    "2. . Sketch a fold tree that you could use for modeling a loop from residues 78–83. Remember that a loop from residues i to j uses a fold tree with a jump from residues i-2 to j+2."
   ]
  },
  {
   "cell_type": "code",
   "execution_count": null,
   "metadata": {},
   "outputs": [],
   "source": []
  },
  {
   "cell_type": "markdown",
   "metadata": {},
   "source": [
    "3. What edges would you use to generate the above fold tree? See the above steps for how to add `EDGE`s to the `FoldTree`"
   ]
  },
  {
   "cell_type": "code",
   "execution_count": null,
   "metadata": {},
   "outputs": [],
   "source": []
  },
  {
   "cell_type": "markdown",
   "metadata": {},
   "source": [
    "To save some time and help avoid mistakes, there are a couple functions that will assist in the creation of fold trees:"
   ]
  },
  {
   "cell_type": "markdown",
   "metadata": {},
   "source": [
    "4. Try each of the following and print the fold tree. What does each of the following do?\n",
    "\n",
    "```\n",
    "ft.clear()\n",
    "print(ft)\n",
    "\n",
    "ft.simple_tree(116)\n",
    "print(ft)\n",
    "\n",
    "ft.new_jump(76, 85, 80)\n",
    "print(ft)\n",
    "```"
   ]
  },
  {
   "cell_type": "code",
   "execution_count": null,
   "metadata": {},
   "outputs": [],
   "source": []
  },
  {
   "cell_type": "markdown",
   "metadata": {},
   "source": [
    "5. Use these FoldTree methods to check your answer to question 3."
   ]
  },
  {
   "cell_type": "code",
   "execution_count": null,
   "metadata": {},
   "outputs": [],
   "source": []
  },
  {
   "cell_type": "markdown",
   "metadata": {},
   "source": [
    "6. Use the above commands to make a fold tree to model both loops (15–24 and 78–83) simultaneously. Note you'll need more than one `Jump`"
   ]
  },
  {
   "cell_type": "code",
   "execution_count": null,
   "metadata": {},
   "outputs": [],
   "source": []
  },
  {
   "cell_type": "markdown",
   "metadata": {},
   "source": [
    "## Cyclic Coordination Descent (CCD) Loop Closure\n",
    "\n",
    "Canutescu & Dunbrack’s CCD routine is implemented as a `Mover`. It first requires that the loop is defined using the `Loop` class. You will also need to create a `MoveMap` with the loop residues marked as flexible (both backbone and side-chain torsion angles). Like many specialty objects in Rosetta, the CCD `Mover` is located in its own namespace and is not loaded in by default when the rest of Rosetta is imported into Python. You can either import the module or refer to its namespace when calling it. Here we show the module import:\n",
    "\n",
    "```\n",
    "from pyrosetta.rosetta.protocols.loops import Loop, Loops, set_single_loop_fold_tree, loop_rmsd\n",
    "from pyrosetta.rosetta.protocols.loops.loop_closure.ccd import *\n",
    "\n",
    "loop1 = Loop(15, 24, 19)\n",
    "\n",
    "loop_mm = MoveMap()\n",
    "loop_mm.set_bb_true_range(15, 24)\n",
    "loop_mm.set_chi_true_range(15, 24)\n",
    "\n",
    "ccd = CCDLoopClosureMover(loop1, loop_mm)\n",
    "print(ccd)\n",
    "```\n",
    "\n",
    "__Question:__ When declaring the `Loop` object, what do 15, 24, and 19 mean, respectively? See what is written out when you `print` the `ccd` object"
   ]
  },
  {
   "cell_type": "code",
   "execution_count": 12,
   "metadata": {},
   "outputs": [
    {
     "name": "stdout",
     "output_type": "stream",
     "text": [
      "\u001b[0mcore.scoring.ramachandran: \u001b[0mshapovalov_lib::shap_rama_smooth_level of 4( aka highest_smooth ) got activated.\n",
      "\u001b[0mbasic.io.database: \u001b[0mDatabase file opened: scoring/score_functions/rama/shapovalov/kappa25/all.ramaProb\n",
      "Mover name: CCDLoopClosureMover, Mover type: CCDLoopClosureMover, Mover current tag:NoTag\n",
      "LOOP start: 15  stop: 24  cut: 19  size: 10  skip rate: 0  extended?: False\n",
      "\n",
      "Number of CCD cycles:    100\n",
      "Tolerance:               0.08\n",
      "bRama check:             True\n",
      "Max total delta helix:   10\n",
      "Max total delta strand:  50\n",
      "Max total delta loop:    75\n",
      "Movemap: \n",
      "\n",
      "-------------------------------\n",
      "  resnum     Type  TRUE/FALSE \n",
      "-------------------------------\n",
      " DEFAULT      BB     FALSE\n",
      " DEFAULT      SC     FALSE\n",
      " DEFAULT      NU     FALSE\n",
      " DEFAULT  BRANCH     FALSE\n",
      "     015      BB      TRUE\n",
      "              SC      TRUE\n",
      "     016      BB      TRUE\n",
      "              SC      TRUE\n",
      "     017      BB      TRUE\n",
      "              SC      TRUE\n",
      "     018      BB      TRUE\n",
      "              SC      TRUE\n",
      "     019      BB      TRUE\n",
      "              SC      TRUE\n",
      "     020      BB      TRUE\n",
      "              SC      TRUE\n",
      "     021      BB      TRUE\n",
      "              SC      TRUE\n",
      "     022      BB      TRUE\n",
      "              SC      TRUE\n",
      "     023      BB      TRUE\n",
      "              SC      TRUE\n",
      "     024      BB      TRUE\n",
      "              SC      TRUE\n",
      "-------------------------------\n",
      " jumpnum     Type  TRUE/FALSE \n",
      "-------------------------------\n",
      " DEFAULT     JUMP    FALSE\n",
      "-------------------------------\n",
      "  resnum  atomnum     Type  TRUE/FALSE \n",
      "-------------------------------\n",
      " DEFAULT               PHI    FALSE\n",
      " DEFAULT             THETA    FALSE\n",
      " DEFAULT                 D    FALSE\n",
      " DEFAULT               RB1    FALSE\n",
      " DEFAULT               RB2    FALSE\n",
      " DEFAULT               RB3    FALSE\n",
      " DEFAULT               RB4    FALSE\n",
      " DEFAULT               RB5    FALSE\n",
      " DEFAULT               RB6    FALSE\n",
      "-------------------------------\n",
      "\n",
      "RamaCheck: \n",
      "RamaCheck1B:\n",
      "\n",
      "Temperature:                                   0.25\n",
      "Maximum Ramachandran Score Increase Tolerated: 2\n",
      "\n"
     ]
    }
   ],
   "source": [
    "from pyrosetta.rosetta.protocols.loops import Loop, Loops, set_single_loop_fold_tree, loop_rmsd\n",
    "from pyrosetta.rosetta.protocols.loops.loop_closure.ccd import *\n",
    "\n",
    "loop1 = Loop(15, 24, 19)\n",
    "\n",
    "loop_mm = MoveMap()\n",
    "loop_mm.set_bb_true_range(15, 24)\n",
    "loop_mm.set_chi_true_range(15, 24)\n",
    "\n",
    "ccd = CCDLoopClosureMover(loop1, loop_mm)\n",
    "print(ccd)"
   ]
  },
  {
   "cell_type": "markdown",
   "metadata": {},
   "source": [
    "Before running the CCD algorithm, it is important to convert the residues around the cut site of the loop to “cut-point variants”:\n",
    "\n",
    "```\n",
    "add_single_cutpoint_variant(pose, loop1)\n",
    "```"
   ]
  },
  {
   "cell_type": "code",
   "execution_count": 14,
   "metadata": {},
   "outputs": [
    {
     "name": "stdout",
     "output_type": "stream",
     "text": [
      "\u001b[0mprotocols.loops.loops_main: \u001b[0mAdded cutpoint variant to residue 19\n",
      "\u001b[0mprotocols.loops.loops_main: \u001b[0mAdded cutpoint variant to residue 20\n"
     ]
    }
   ],
   "source": [
    "from pyrosetta.teaching import *\n",
    "add_single_cutpoint_variant(pose, loop1)"
   ]
  },
  {
   "cell_type": "markdown",
   "metadata": {},
   "source": [
    "7. Now that the cutpoint variant has been added, open the loop using `set_phi`, and `apply` the CCD `Mover` on the `Pose`. Does it close the loop? Is the bond across the cut point protein-like?"
   ]
  },
  {
   "cell_type": "code",
   "execution_count": null,
   "metadata": {},
   "outputs": [],
   "source": []
  },
  {
   "cell_type": "markdown",
   "metadata": {},
   "source": [
    "Note also that if you have a loop defined in a `Loop` object, you can set your fold tree with the command (note the `FoldTree` will look slightly different compared to the one we manually created:\n",
    "\n",
    "```\n",
    "pose.assign(start_pose)\n",
    "print(pose.fold_tree())\n",
    "set_single_loop_fold_tree(pose, loop1)\n",
    "print(pose.fold_tree())\n",
    "```"
   ]
  },
  {
   "cell_type": "code",
   "execution_count": null,
   "metadata": {},
   "outputs": [],
   "source": []
  },
  {
   "cell_type": "markdown",
   "metadata": {},
   "source": [
    "## Multiple Loops\n",
    "\n",
    "Multiple loops can be stored in a `Loops` object. We can create a `loop2` object for the 78–83 loop and then create a `Loops` object:\n",
    "\n",
    "```\n",
    "loop2 = Loop(78, 83, 80)\n",
    "\n",
    "loops = Loops()\n",
    "loops.add_loop(loop1)\n",
    "loops.add_loop(loop2)\n",
    "```\n",
    "\n",
    "To use CCD on all loops, we have to iterate over each one."
   ]
  },
  {
   "cell_type": "code",
   "execution_count": null,
   "metadata": {},
   "outputs": [],
   "source": []
  },
  {
   "cell_type": "markdown",
   "metadata": {},
   "source": [
    "## Loop Building\n",
    "\n",
    "The `MoveMap` and the `FoldTree` work together. By using a `MoveMap`, you can ensure that a `Mover` will only operate inside the loop region."
   ]
  },
  {
   "cell_type": "markdown",
   "metadata": {},
   "source": [
    "8. At this point, you should be able to write your own loop protocol that will build the loop at low-resolution using fragments. Some tips, __but finish the workshop before you build the loop modeling protocol__:\n",
    "\n",
    "\n",
    "* Create a MoveMap that will allow motions only in the two loop regions defined in our MoveMap above.\n",
    "* Create a ClassicFragmentMover using your MoveMap and the 3-residue fragment file provided, test_in.frag3. \n",
    "* Use the cen_std score function, but add the chainbreak score component with a weight of 1.\n",
    "* Do 100 fragment insertions.\n",
    "* After each fragment insertion, close the loop with CCD, then use a MonteCarlo object to accept or reject the combination move.\n",
    "* Bonus: use SequenceMover and TrialMover to tighten up your code.\n",
    "* Further bonus: use the JobDistributor to allow your program to make multiple structures."
   ]
  },
  {
   "cell_type": "code",
   "execution_count": null,
   "metadata": {},
   "outputs": [],
   "source": []
  },
  {
   "cell_type": "markdown",
   "metadata": {},
   "source": [
    "`Loop` RMSD is typically measured in a fixed reference frame of the whole protein, and it can be computed on Cα atoms or all backbone atoms. PyRosetta has a built-in function for calculating deviation of all the loops, and its output can be added as additional info in the `PyJobDistributor`__If the `lrms` comes out to zero, return to the above cells and move one of the loops__:\n",
    "\n",
    "```\n",
    "lrms = loop_rmsd(pose, start_pose, loops, True)\n",
    "print(lrms)\n",
    "sfxn = get_score_function()\n",
    "\n",
    "jd = PyJobDistributor(\"loop_test\", 1, sfxn)\n",
    "jd.additional_decoy_info = \" LRMSD: \" + str(lrms)\n",
    "jd.output_decoy(pose)\n",
    "```\n",
    "\n",
    "(The fourth argument in `loop_rmsd()` tells whether or not the RMSD is calculated for Cα atoms only.)"
   ]
  },
  {
   "cell_type": "code",
   "execution_count": null,
   "metadata": {},
   "outputs": [],
   "source": []
  },
  {
   "cell_type": "markdown",
   "metadata": {},
   "source": [
    "9. If you first perturb the loop residues by setting all the residues to extended conformations (φ=ψ=180°), can your code close the two loops and find reasonable conformations? What is the loop RMS?"
   ]
  },
  {
   "cell_type": "code",
   "execution_count": null,
   "metadata": {},
   "outputs": [],
   "source": []
  },
  {
   "cell_type": "markdown",
   "metadata": {},
   "source": [
    "## High-Resolution Loop Protocol\n",
    "\n",
    "In high-resolution, loop optimization needs smaller perturbations such as that from `Small` and `Shear` moves. The classic Rosetta loop refinement protocol is available as a `Mover` and is located in the `pyrosetta.rosetta.protocols.loops.loop_mover.refine` namespace:\n",
    "\n",
    "```\n",
    "from pyrosetta.rosetta.protocols.loops.loop_mover.refine import *\n",
    "loop_refine = LoopMover_Refine_CCD(loops)\n",
    "```\n",
    "\n",
    "The `Mover` uses its own default, high-resolution score function, and it will generate its own `MoveMap` based on the definition of the loops."
   ]
  },
  {
   "cell_type": "code",
   "execution_count": null,
   "metadata": {},
   "outputs": [],
   "source": []
  },
  {
   "cell_type": "markdown",
   "metadata": {},
   "source": [
    "10. `apply` this `Mover` to a few of your low-resolution loop models after switching them to full atom versions. How far does refinement move the loops? Do the loops remain closed? Note `loop_refine.apply(pose)` might take a while"
   ]
  },
  {
   "cell_type": "code",
   "execution_count": null,
   "metadata": {},
   "outputs": [],
   "source": []
  },
  {
   "cell_type": "markdown",
   "metadata": {},
   "source": [
    "## Kinematic Closure (KIC) Protocol\n",
    "\n",
    "The kinematic loop closure methods of Mandell et al. are also available in several prepared `Movers` and protocols."
   ]
  },
  {
   "cell_type": "markdown",
   "metadata": {},
   "source": [
    "A single closure of a loop using the direct mathematical solution using polynomial resultants can be performed by applying the `KinematicMover`. Rather than using a `Loop` object, this `Mover` is set up by specifying the three “pivot” residues. The `KinematicMover` determines new torsion angles for the pivot residues by solving the closure equations.\n",
    "\n",
    "```\n",
    "from pyrosetta.rosetta.protocols.loops.loop_closure.kinematic_closure import *\n",
    "\n",
    "set_single_loop_fold_tree(pose, loop1)\n",
    "pmm.apply(pose)\n",
    "kic_mover = KinematicMover()\n",
    "kic_mover.set_pivots(16, 20, 24)\n",
    "kic_mover.apply(pose)\n",
    "pmm.apply(pose)\n",
    "```\n",
    "\n",
    "Like the `CCDLoopClosureMover`, the `KinematicMover` can be applied after various perturbations that alter or open the loop."
   ]
  },
  {
   "cell_type": "code",
   "execution_count": null,
   "metadata": {},
   "outputs": [],
   "source": []
  },
  {
   "cell_type": "markdown",
   "metadata": {},
   "source": [
    "The full loop prediction protocol of Mandell et al. has been implemented as separate `Movers` for the low- and high-resolution stages. The `LoopMover_Perturb_KIC` operates on a centroid representation `Pose`, and it is designed to predict a loop de novo. The `LoopMover_Refine_KIC` operates in the full-atom representation, and it is designed to refine a loop making small perturbations from a starting conformation such as one output by the `LoopMover_Perturb_KIC` `Mover`. Here is an example of the usage of both:\n",
    "```\n",
    "from pyrosetta.rosetta.protocols.loops.loop_mover.perturb import *\n",
    "from pyrosetta.rosetta.protocols.loops.loop_mover.refine import *\n",
    "\n",
    "loops = Loops()\n",
    "loops.add_loop(loop1)\n",
    "\n",
    "set_single_loop_fold_tree(pose, loop1)\n",
    "\n",
    "sw = SwitchResidueTypeSetMover(\"centroid\")\n",
    "sw.apply(pose)\n",
    "kic_perturb = LoopMover_Perturb_KIC(loops)\n",
    "#kic_perturb.apply(pose)\n",
    "sw = SwitchResidueTypeSetMover(\"fa_standard\")\n",
    "sw.apply(pose)\n",
    "kic_refine = LoopMover_Refine_KIC(loops)\n",
    "#kic_refine.apply(pose)\n",
    "```\n",
    "\n",
    "__Because these are full prediction protocols, they will require some time to perform on your computer.__ Each will result in a single decoy structure; note that Mandell et al. generated 1000 decoy structures for blind predictions of 12-residue loops."
   ]
  },
  {
   "cell_type": "code",
   "execution_count": null,
   "metadata": {},
   "outputs": [],
   "source": []
  },
  {
   "cell_type": "markdown",
   "metadata": {},
   "source": [
    "11. Time permitting, repeat exercises 8–10, replacing the CCD `Mover` with the appropriate kinematic `Movers`."
   ]
  },
  {
   "cell_type": "code",
   "execution_count": null,
   "metadata": {},
   "outputs": [],
   "source": []
  },
  {
   "cell_type": "markdown",
   "metadata": {},
   "source": [
    "## Simultaneous Loop Modeling and Docking\n",
    "\n",
    "Antibodies have two chains, light (L) and heavy (H), which can move relative to each other. They also have a long, hypervariable H3 loop, typically residues 95–102. Antibodies are common protein drugs, and they are often created by exploiting the immune system of a mouse. There is a need for high-quality homology models of antibodies."
   ]
  },
  {
   "cell_type": "markdown",
   "metadata": {},
   "source": [
    "12. Sketch a fold tree that you could use to model an antibody with a flexible H3 loop and H and L chains that can move relative to each other."
   ]
  },
  {
   "cell_type": "code",
   "execution_count": null,
   "metadata": {},
   "outputs": [],
   "source": []
  },
  {
   "cell_type": "markdown",
   "metadata": {},
   "source": [
    "13. Write a low-resolution protocol to alternate docking and loop modeling steps. Use your code to model cetuximab. Use the job distributor to track your decoys. What is the lowest RMSD you can create in 100 decoys?"
   ]
  },
  {
   "cell_type": "code",
   "execution_count": null,
   "metadata": {},
   "outputs": [],
   "source": []
  }
 ],
 "metadata": {
  "anaconda-cloud": {},
  "kernelspec": {
   "display_name": "Python 3",
   "language": "python",
   "name": "python3"
  },
  "language_info": {
   "codemirror_mode": {
    "name": "ipython",
    "version": 3
   },
   "file_extension": ".py",
   "mimetype": "text/x-python",
   "name": "python",
   "nbconvert_exporter": "python",
   "pygments_lexer": "ipython3",
   "version": "3.7.4"
  },
  "toc": {
   "base_numbering": 1,
   "nav_menu": {},
   "number_sections": true,
   "sideBar": true,
   "skip_h1_title": false,
   "title_cell": "Table of Contents",
   "title_sidebar": "Contents",
   "toc_cell": false,
   "toc_position": {},
   "toc_section_display": true,
   "toc_window_display": false
  }
 },
 "nbformat": 4,
 "nbformat_minor": 1
}
